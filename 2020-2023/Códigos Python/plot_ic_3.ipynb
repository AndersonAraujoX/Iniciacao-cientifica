{
  "cells": [
    {
      "cell_type": "code",
      "execution_count": null,
      "id": "88036860-6260-4965-98e2-6054c1c575b9",
      "metadata": {
        "id": "88036860-6260-4965-98e2-6054c1c575b9"
      },
      "outputs": [],
      "source": [
        "import matplotlib.pyplot as plt\n",
        "import numpy as np\n",
        "import math\n",
        "import scipy as sc\n",
        "from scipy import special;\n",
        "plt.rcParams['text.usetex'] = True\n",
        "import mpmath\n",
        "import decimal\n",
        "from numba import njit, prange"
      ]
    },
    {
      "cell_type": "code",
      "source": [
        "!sudo apt install cm-super dvipng texlive-latex-extra texlive-latex-recommended"
      ],
      "metadata": {
        "colab": {
          "base_uri": "https://localhost:8080/"
        },
        "id": "GvfNG2bsVVzP",
        "outputId": "b49c2189-5ad5-485a-caa5-8ac1e7e4da5e"
      },
      "id": "GvfNG2bsVVzP",
      "execution_count": null,
      "outputs": [
        {
          "output_type": "stream",
          "name": "stdout",
          "text": [
            "Reading package lists... Done\n",
            "Building dependency tree... Done\n",
            "Reading state information... Done\n",
            "cm-super is already the newest version (0.3.4-17).\n",
            "dvipng is already the newest version (1.15-1.1).\n",
            "texlive-latex-extra is already the newest version (2021.20220204-1).\n",
            "texlive-latex-recommended is already the newest version (2021.20220204-1).\n",
            "0 upgraded, 0 newly installed, 0 to remove and 29 not upgraded.\n"
          ]
        }
      ]
    },
    {
      "cell_type": "code",
      "execution_count": null,
      "id": "da758867-53c5-4f27-9169-9b253e95bab6",
      "metadata": {
        "id": "da758867-53c5-4f27-9169-9b253e95bab6",
        "outputId": "a2b106c3-5e58-4106-fa03-aca2fc82e883",
        "colab": {
          "base_uri": "https://localhost:8080/"
        }
      },
      "outputs": [
        {
          "output_type": "stream",
          "name": "stdout",
          "text": [
            "Requirement already satisfied: numba in /usr/local/lib/python3.11/dist-packages (0.60.0)\n",
            "Requirement already satisfied: llvmlite<0.44,>=0.43.0dev0 in /usr/local/lib/python3.11/dist-packages (from numba) (0.43.0)\n",
            "Requirement already satisfied: numpy<2.1,>=1.22 in /usr/local/lib/python3.11/dist-packages (from numba) (2.0.2)\n"
          ]
        }
      ],
      "source": [
        "pip install numba"
      ]
    },
    {
      "cell_type": "code",
      "execution_count": null,
      "id": "5471900f-5365-459f-bfc3-c5ac63623c9e",
      "metadata": {
        "id": "5471900f-5365-459f-bfc3-c5ac63623c9e"
      },
      "outputs": [],
      "source": [
        "from numba import jit,vectorize,njit\n",
        "\n",
        "import numba as nb\n",
        "import time\n",
        "import matplotlib.pyplot as plt\n",
        "from scipy.optimize import curve_fit"
      ]
    },
    {
      "cell_type": "markdown",
      "id": "5ef4fc23-0599-41c8-975d-c6b664e2a24f",
      "metadata": {
        "id": "5ef4fc23-0599-41c8-975d-c6b664e2a24f"
      },
      "source": [
        "Geral matriz <n,m|$\\frac{\\gamma_b}{r}$|$n^{\\prime}$,m>"
      ]
    },
    {
      "cell_type": "code",
      "execution_count": null,
      "id": "084c2249-738b-40bf-9269-5c25bda8d8a0",
      "metadata": {
        "id": "084c2249-738b-40bf-9269-5c25bda8d8a0",
        "outputId": "d567e612-c19b-4a70-d451-74b1f7b9db03",
        "colab": {
          "base_uri": "https://localhost:8080/"
        }
      },
      "outputs": [
        {
          "output_type": "execute_result",
          "data": {
            "text/plain": [
              "2"
            ]
          },
          "metadata": {},
          "execution_count": 26
        }
      ],
      "source": [
        "math.factorial(2)"
      ]
    },
    {
      "cell_type": "markdown",
      "id": "d0d585cb-6c98-44e2-940c-515d18cadec5",
      "metadata": {
        "id": "d0d585cb-6c98-44e2-940c-515d18cadec5"
      },
      "source": [
        "Resultado analitico de cada elemento de matriz"
      ]
    },
    {
      "cell_type": "code",
      "execution_count": null,
      "id": "dbdca9f6-98a4-4e1d-a66c-8bf0890f5014",
      "metadata": {
        "id": "dbdca9f6-98a4-4e1d-a66c-8bf0890f5014"
      },
      "outputs": [],
      "source": [
        "@jit\n",
        "def y_2(k):\n",
        "    return np.sqrt((2*abs(k)+1))/2\n",
        "@jit\n",
        "def y_3(k):\n",
        "    return np.sqrt((4*abs(k)+3)/2)\n",
        "@jit\n",
        "def y_4(k):\n",
        "    return np.sqrt(5+5*abs(k)-np.sqrt(73+64*abs(k)*(2+abs(k)))*0.5)*0.5**0.5"
      ]
    },
    {
      "cell_type": "code",
      "execution_count": null,
      "id": "fafb3cd3-3b92-47bd-8023-97395ec789e3",
      "metadata": {
        "id": "fafb3cd3-3b92-47bd-8023-97395ec789e3"
      },
      "outputs": [],
      "source": [
        "def resul2(n,ni,m):\n",
        "    soma=0\n",
        "    for i in range(ni+1):\n",
        "        for j in range(n+1):\n",
        "            soma=soma+(-1)**(i+j)*math.gamma(abs(m)+i+0.5+j)/(math.factorial(i)*math.factorial(j)*math.factorial(ni-i)*math.factorial(n-j)*math.factorial(abs(m)+i)*math.factorial(abs(m)+j))\n",
        "    #print(soma,np.sqrt(math.factorial(ni)*math.factorial(ni+abs(m))*(math.factorial(n)*math.factorial(n+abs(m))/2)))\n",
        "    return soma*np.sqrt(math.factorial(ni)*math.factorial(ni+abs(m))*(math.factorial(n)*math.factorial(n+abs(m))/2))\n",
        "\n",
        "def resul3(n,ni,m):\n",
        "    fac2=math.factorial(ni)*math.factorial(n)*np.sqrt(math.factorial(ni)/math.factorial(ni+abs(m))*(math.factorial(n)/math.factorial(n+abs(m))))\n",
        "    soma=0\n",
        "    for i in range(0,(ni+1-abs(m))):\n",
        "        for j in range(0,(n+1-abs(m))):\n",
        "            soma=soma+(-1)**(i+j)*math.gamma(abs(m)+i+0.5+j)/(math.factorial(i)*math.factorial(j)*math.factorial(ni-abs(m)-i)*math.factorial(n-abs(m)-j)*math.factorial(abs(m)+i)*math.factorial(abs(m)+j))\n",
        "    return soma*fac2\n",
        "\n",
        "#@njit(parallel=True)\n",
        "def anali(n,ni,m):\n",
        "    a=0\n",
        "    for i in prange(ni+1):\n",
        "        a+=(-1)**i*(math.gamma(i+abs(m)+0.5)*math.gamma(n-i+0.5))/(math.gamma(i+1.0)*math.gamma(ni-i+1.0)*math.gamma(i+abs(m)+1.0)*math.gamma(0.5-i))\n",
        "    a=a*math.sqrt(math.gamma(ni+1.0)*math.gamma(ni+abs(m)+1.0)/(math.gamma(n+1.0)*2*math.gamma(n+abs(m)+1.0)))\n",
        "    return a"
      ]
    },
    {
      "cell_type": "code",
      "execution_count": null,
      "id": "Jr-kneqrZa1U",
      "metadata": {
        "id": "Jr-kneqrZa1U"
      },
      "outputs": [],
      "source": [
        "def fast_fact(n):\n",
        "  fatotial=[1]\n",
        "  for i in prange(1,n):\n",
        "    fatotial.append(mpmath.gamma(i))\n",
        "  return fatotial\n",
        "n=5000\n",
        "fast_gama=fast_fact(n)\n",
        "#print(fast_gama)\n",
        "\n",
        "def fast_gam(n):\n",
        "  fatotial=[0]*(2*n)\n",
        "  for i in prange(-n,n):\n",
        "    fatotial[i]=mpmath.gamma(i+0.5)\n",
        "  return fatotial\n",
        "n=5000\n",
        "fast_gama2=fast_gam(n)"
      ]
    },
    {
      "cell_type": "code",
      "execution_count": null,
      "id": "6d401935-771c-429b-81cb-0cc703722ec2",
      "metadata": {
        "id": "6d401935-771c-429b-81cb-0cc703722ec2"
      },
      "outputs": [],
      "source": [
        "def anali3(n,ni,m):\n",
        "    a = 0\n",
        "    for i in prange(ni+1):\n",
        "        a += (-1)**i * (mpmath.gamma(i+abs(m)+0.5) * mpmath.gamma(n-i+0.5)) / (fast_gama[i+1] * fast_gama[ni-i+1] * fast_gama[i+abs(m)+1] * mpmath.gamma(0.5-i))\n",
        "    return  a * mpmath.sqrt(fast_gama[ni+1] * fast_gama[ni+abs(m)+1] / (fast_gama[n+1] * 2 * fast_gama[n+abs(m)+1]))\n",
        "\n",
        "#@jit(parallel=True)\n",
        "def anali4(n,ni,m):\n",
        "    a = 0\n",
        "    for i in prange(ni+1):\n",
        "        a += (-1)**i * (fast_gama2[i+abs(m)] * fast_gama2[n-i]) / (fast_gama[i+1] * fast_gama[ni-i+1] * fast_gama[i+abs(m)+1] * fast_gama2[-i])\n",
        "    return  a * (fast_gama[ni+1] * fast_gama[ni+abs(m)+1] / (fast_gama[n+1] * 2 * fast_gama[n+abs(m)+1]))**(0.5)\n",
        "\n",
        "\n",
        "def anali2(n, ni, m):\n",
        "    a = 0\n",
        "    for i in prange(ni+1):\n",
        "        a += (-1)**i * (mpmath.gamma(i+abs(m)+0.5) * mpmath.gamma(n-i+0.5)) / (mpmath.gamma(i+1.0) * mpmath.gamma(ni-i+1.0) * mpmath.gamma(i+abs(m)+1.0) * mpmath.gamma(0.5-i))\n",
        "    return  a * mpmath.sqrt(mpmath.gamma(ni+1.0) * mpmath.gamma(ni+abs(m)+1.0) / (mpmath.gamma(n+1.0) * 2*mpmath.gamma(n+abs(m)+1.0)))\n",
        "\n",
        "def anali1(n,ni,m):\n",
        "    r=np.linspace(0,52,520)\n",
        "    return np.trapz(f(r,n,m)*f(r,ni,m),r)\n",
        "\n",
        "def f(r,n,m):\n",
        "    x=r*0.5*r\n",
        "    return math.sqrt(math.factorial(n)/math.factorial(n+abs(m)))*(x)**(np.abs(m)*0.5)*np.exp(-x*0.5)*sc.special.assoc_laguerre(x, n, np.abs(m))\n"
      ]
    },
    {
      "cell_type": "code",
      "execution_count": null,
      "id": "X2x7MRJ8pihQ",
      "metadata": {
        "id": "X2x7MRJ8pihQ"
      },
      "outputs": [],
      "source": [
        "#print(math.factorial(1000))"
      ]
    },
    {
      "cell_type": "code",
      "execution_count": null,
      "id": "xLrcInZZ7LYD",
      "metadata": {
        "colab": {
          "base_uri": "https://localhost:8080/"
        },
        "id": "xLrcInZZ7LYD",
        "outputId": "045d9f5e-f224-4a28-c6d3-9f87ff5d6fa1"
      },
      "outputs": [
        {
          "output_type": "stream",
          "name": "stdout",
          "text": [
            "0.0523597406857289\n",
            "0.06769919395446777\n",
            "0.0523597406857289\n",
            "0.5560450553894043\n"
          ]
        }
      ],
      "source": [
        "n=3000\n",
        "start=time.time()\n",
        "print(anali4(n,n,0))\n",
        "print(time.time()-start)\n",
        "start=time.time()\n",
        "print(anali3(n,n,0))\n",
        "print(time.time()-start)"
      ]
    },
    {
      "cell_type": "code",
      "execution_count": null,
      "id": "zGmK3eKz7iYp",
      "metadata": {
        "id": "zGmK3eKz7iYp"
      },
      "outputs": [],
      "source": [
        "def matriz4(n,m,g):\n",
        "    matriz=np.empty((n,n))\n",
        "    for i in prange(n):\n",
        "        for j in prange(i,n):\n",
        "            matriz[i][j]=matriz[j][i]=g*anali4(j,i,m)\n",
        "    for i in prange(n):\n",
        "        matriz[i][i]+=(i+0.5)\n",
        "    return matriz"
      ]
    },
    {
      "cell_type": "code",
      "execution_count": null,
      "id": "ah4DcZ3tH95c",
      "metadata": {
        "colab": {
          "base_uri": "https://localhost:8080/"
        },
        "id": "ah4DcZ3tH95c",
        "outputId": "8ae16b0c-ef96-4990-9c38-6a7cc372cd81"
      },
      "outputs": [
        {
          "output_type": "stream",
          "name": "stdout",
          "text": [
            "260.83415389060974\n"
          ]
        }
      ],
      "source": [
        "n=500\n",
        "m=0\n",
        "start=time.time()\n",
        "ma=np.empty((n,n))\n",
        "for i in prange(n):\n",
        "    for j in prange(i,n):\n",
        "        ma[i][j]=ma[j][i]=anali4(j,i,m)\n",
        "print(time.time()-start)\n"
      ]
    },
    {
      "cell_type": "code",
      "execution_count": null,
      "id": "48VQiRpBH2f2",
      "metadata": {
        "id": "48VQiRpBH2f2"
      },
      "outputs": [],
      "source": [
        "def matriz1(n,m,g):\n",
        "    matriz=np.empty((n,n))\n",
        "    for i in prange(n):\n",
        "        for j in prange(i,n):\n",
        "            matriz[i][j]=matriz[j][i]=g*ma[i][j]\n",
        "    for i in prange(n):\n",
        "        matriz[i][i]+=(i+0.5)\n",
        "    return matriz"
      ]
    },
    {
      "cell_type": "markdown",
      "id": "2a2a7563-73e5-47dc-a5d4-091d7f9a4beb",
      "metadata": {
        "id": "2a2a7563-73e5-47dc-a5d4-091d7f9a4beb"
      },
      "source": [
        "Parte de comparação"
      ]
    },
    {
      "cell_type": "markdown",
      "id": "6cbb7faa-c6d3-49a2-b724-8bf573c53278",
      "metadata": {
        "id": "6cbb7faa-c6d3-49a2-b724-8bf573c53278"
      },
      "source": [
        "Fazer a integral\n",
        "\n",
        "$\\int_{0}^{\\infty} \\psi(r) r \\psi(r)r dr$\n",
        "\n",
        "\n",
        "numero quântico=0 (fundamental)"
      ]
    },
    {
      "cell_type": "markdown",
      "id": "9a802554-42b2-49ce-a25e-2943f1e71b52",
      "metadata": {
        "id": "9a802554-42b2-49ce-a25e-2943f1e71b52"
      },
      "source": [
        "Distância esperada $<r>$"
      ]
    },
    {
      "cell_type": "code",
      "execution_count": null,
      "id": "9c03127b-2b67-4442-a967-3f2953697465",
      "metadata": {
        "id": "9c03127b-2b67-4442-a967-3f2953697465",
        "colab": {
          "base_uri": "https://localhost:8080/"
        },
        "outputId": "511edd0c-b1a1-4064-dee9-050b58cb2ab3"
      },
      "outputs": [
        {
          "output_type": "stream",
          "name": "stderr",
          "text": [
            "<ipython-input-36-15fc799ecbfe>:25: DeprecationWarning: `trapz` is deprecated. Use `trapezoid` instead, or one of the numerical integration functions in `scipy.integrate`.\n",
            "  a=np.trapz(resul,space)\n"
          ]
        },
        {
          "output_type": "error",
          "ename": "KeyboardInterrupt",
          "evalue": "",
          "traceback": [
            "\u001b[0;31m---------------------------------------------------------------------------\u001b[0m",
            "\u001b[0;31mKeyboardInterrupt\u001b[0m                         Traceback (most recent call last)",
            "\u001b[0;32m<ipython-input-36-15fc799ecbfe>\u001b[0m in \u001b[0;36m<cell line: 0>\u001b[0;34m()\u001b[0m\n\u001b[1;32m     13\u001b[0m     \u001b[0;32mfor\u001b[0m \u001b[0mj\u001b[0m \u001b[0;32min\u001b[0m \u001b[0mg\u001b[0m\u001b[0;34m:\u001b[0m\u001b[0;34m\u001b[0m\u001b[0;34m\u001b[0m\u001b[0m\n\u001b[1;32m     14\u001b[0m         \u001b[0mresul\u001b[0m\u001b[0;34m=\u001b[0m\u001b[0;34m[\u001b[0m\u001b[0;34m]\u001b[0m\u001b[0;34m\u001b[0m\u001b[0;34m\u001b[0m\u001b[0m\n\u001b[0;32m---> 15\u001b[0;31m         \u001b[0mw\u001b[0m\u001b[0;34m,\u001b[0m\u001b[0mv\u001b[0m\u001b[0;34m=\u001b[0m\u001b[0msc\u001b[0m\u001b[0;34m.\u001b[0m\u001b[0mlinalg\u001b[0m\u001b[0;34m.\u001b[0m\u001b[0meigh\u001b[0m\u001b[0;34m(\u001b[0m\u001b[0mnp\u001b[0m\u001b[0;34m.\u001b[0m\u001b[0marray\u001b[0m\u001b[0;34m(\u001b[0m\u001b[0mmatriz4\u001b[0m\u001b[0;34m(\u001b[0m\u001b[0mn\u001b[0m\u001b[0;34m,\u001b[0m\u001b[0mm\u001b[0m\u001b[0;34m,\u001b[0m\u001b[0mj\u001b[0m\u001b[0;34m)\u001b[0m\u001b[0;34m)\u001b[0m\u001b[0;34m,\u001b[0m\u001b[0mdriver\u001b[0m\u001b[0;34m=\u001b[0m\u001b[0;34m'evr'\u001b[0m\u001b[0;34m)\u001b[0m\u001b[0;34m\u001b[0m\u001b[0;34m\u001b[0m\u001b[0m\n\u001b[0m\u001b[1;32m     16\u001b[0m         \u001b[0;32mfor\u001b[0m \u001b[0mk\u001b[0m \u001b[0;32min\u001b[0m \u001b[0mspace\u001b[0m\u001b[0;34m:\u001b[0m\u001b[0;34m\u001b[0m\u001b[0;34m\u001b[0m\u001b[0m\n\u001b[1;32m     17\u001b[0m             \u001b[0msoma\u001b[0m\u001b[0;34m=\u001b[0m\u001b[0;36m0\u001b[0m\u001b[0;34m\u001b[0m\u001b[0;34m\u001b[0m\u001b[0m\n",
            "\u001b[0;32m<ipython-input-33-e3c8def72dbc>\u001b[0m in \u001b[0;36mmatriz4\u001b[0;34m(n, m, g)\u001b[0m\n\u001b[1;32m      3\u001b[0m     \u001b[0;32mfor\u001b[0m \u001b[0mi\u001b[0m \u001b[0;32min\u001b[0m \u001b[0mprange\u001b[0m\u001b[0;34m(\u001b[0m\u001b[0mn\u001b[0m\u001b[0;34m)\u001b[0m\u001b[0;34m:\u001b[0m\u001b[0;34m\u001b[0m\u001b[0;34m\u001b[0m\u001b[0m\n\u001b[1;32m      4\u001b[0m         \u001b[0;32mfor\u001b[0m \u001b[0mj\u001b[0m \u001b[0;32min\u001b[0m \u001b[0mprange\u001b[0m\u001b[0;34m(\u001b[0m\u001b[0mi\u001b[0m\u001b[0;34m,\u001b[0m\u001b[0mn\u001b[0m\u001b[0;34m)\u001b[0m\u001b[0;34m:\u001b[0m\u001b[0;34m\u001b[0m\u001b[0;34m\u001b[0m\u001b[0m\n\u001b[0;32m----> 5\u001b[0;31m             \u001b[0mmatriz\u001b[0m\u001b[0;34m[\u001b[0m\u001b[0mi\u001b[0m\u001b[0;34m]\u001b[0m\u001b[0;34m[\u001b[0m\u001b[0mj\u001b[0m\u001b[0;34m]\u001b[0m\u001b[0;34m=\u001b[0m\u001b[0mmatriz\u001b[0m\u001b[0;34m[\u001b[0m\u001b[0mj\u001b[0m\u001b[0;34m]\u001b[0m\u001b[0;34m[\u001b[0m\u001b[0mi\u001b[0m\u001b[0;34m]\u001b[0m\u001b[0;34m=\u001b[0m\u001b[0mg\u001b[0m\u001b[0;34m*\u001b[0m\u001b[0manali4\u001b[0m\u001b[0;34m(\u001b[0m\u001b[0mj\u001b[0m\u001b[0;34m,\u001b[0m\u001b[0mi\u001b[0m\u001b[0;34m,\u001b[0m\u001b[0mm\u001b[0m\u001b[0;34m)\u001b[0m\u001b[0;34m\u001b[0m\u001b[0;34m\u001b[0m\u001b[0m\n\u001b[0m\u001b[1;32m      6\u001b[0m     \u001b[0;32mfor\u001b[0m \u001b[0mi\u001b[0m \u001b[0;32min\u001b[0m \u001b[0mprange\u001b[0m\u001b[0;34m(\u001b[0m\u001b[0mn\u001b[0m\u001b[0;34m)\u001b[0m\u001b[0;34m:\u001b[0m\u001b[0;34m\u001b[0m\u001b[0;34m\u001b[0m\u001b[0m\n\u001b[1;32m      7\u001b[0m         \u001b[0mmatriz\u001b[0m\u001b[0;34m[\u001b[0m\u001b[0mi\u001b[0m\u001b[0;34m]\u001b[0m\u001b[0;34m[\u001b[0m\u001b[0mi\u001b[0m\u001b[0;34m]\u001b[0m\u001b[0;34m+=\u001b[0m\u001b[0;34m(\u001b[0m\u001b[0mi\u001b[0m\u001b[0;34m+\u001b[0m\u001b[0;36m0.5\u001b[0m\u001b[0;34m)\u001b[0m\u001b[0;34m\u001b[0m\u001b[0;34m\u001b[0m\u001b[0m\n",
            "\u001b[0;32m<ipython-input-30-1c96bc4f204c>\u001b[0m in \u001b[0;36manali4\u001b[0;34m(n, ni, m)\u001b[0m\n\u001b[1;32m      9\u001b[0m     \u001b[0ma\u001b[0m \u001b[0;34m=\u001b[0m \u001b[0;36m0\u001b[0m\u001b[0;34m\u001b[0m\u001b[0;34m\u001b[0m\u001b[0m\n\u001b[1;32m     10\u001b[0m     \u001b[0;32mfor\u001b[0m \u001b[0mi\u001b[0m \u001b[0;32min\u001b[0m \u001b[0mprange\u001b[0m\u001b[0;34m(\u001b[0m\u001b[0mni\u001b[0m\u001b[0;34m+\u001b[0m\u001b[0;36m1\u001b[0m\u001b[0;34m)\u001b[0m\u001b[0;34m:\u001b[0m\u001b[0;34m\u001b[0m\u001b[0;34m\u001b[0m\u001b[0m\n\u001b[0;32m---> 11\u001b[0;31m         \u001b[0ma\u001b[0m \u001b[0;34m+=\u001b[0m \u001b[0;34m(\u001b[0m\u001b[0;34m-\u001b[0m\u001b[0;36m1\u001b[0m\u001b[0;34m)\u001b[0m\u001b[0;34m**\u001b[0m\u001b[0mi\u001b[0m \u001b[0;34m*\u001b[0m \u001b[0;34m(\u001b[0m\u001b[0mfast_gama2\u001b[0m\u001b[0;34m[\u001b[0m\u001b[0mi\u001b[0m\u001b[0;34m+\u001b[0m\u001b[0mabs\u001b[0m\u001b[0;34m(\u001b[0m\u001b[0mm\u001b[0m\u001b[0;34m)\u001b[0m\u001b[0;34m]\u001b[0m \u001b[0;34m*\u001b[0m \u001b[0mfast_gama2\u001b[0m\u001b[0;34m[\u001b[0m\u001b[0mn\u001b[0m\u001b[0;34m-\u001b[0m\u001b[0mi\u001b[0m\u001b[0;34m]\u001b[0m\u001b[0;34m)\u001b[0m \u001b[0;34m/\u001b[0m \u001b[0;34m(\u001b[0m\u001b[0mfast_gama\u001b[0m\u001b[0;34m[\u001b[0m\u001b[0mi\u001b[0m\u001b[0;34m+\u001b[0m\u001b[0;36m1\u001b[0m\u001b[0;34m]\u001b[0m \u001b[0;34m*\u001b[0m \u001b[0mfast_gama\u001b[0m\u001b[0;34m[\u001b[0m\u001b[0mni\u001b[0m\u001b[0;34m-\u001b[0m\u001b[0mi\u001b[0m\u001b[0;34m+\u001b[0m\u001b[0;36m1\u001b[0m\u001b[0;34m]\u001b[0m \u001b[0;34m*\u001b[0m \u001b[0mfast_gama\u001b[0m\u001b[0;34m[\u001b[0m\u001b[0mi\u001b[0m\u001b[0;34m+\u001b[0m\u001b[0mabs\u001b[0m\u001b[0;34m(\u001b[0m\u001b[0mm\u001b[0m\u001b[0;34m)\u001b[0m\u001b[0;34m+\u001b[0m\u001b[0;36m1\u001b[0m\u001b[0;34m]\u001b[0m \u001b[0;34m*\u001b[0m \u001b[0mfast_gama2\u001b[0m\u001b[0;34m[\u001b[0m\u001b[0;34m-\u001b[0m\u001b[0mi\u001b[0m\u001b[0;34m]\u001b[0m\u001b[0;34m)\u001b[0m\u001b[0;34m\u001b[0m\u001b[0;34m\u001b[0m\u001b[0m\n\u001b[0m\u001b[1;32m     12\u001b[0m     \u001b[0;32mreturn\u001b[0m  \u001b[0ma\u001b[0m \u001b[0;34m*\u001b[0m \u001b[0;34m(\u001b[0m\u001b[0mfast_gama\u001b[0m\u001b[0;34m[\u001b[0m\u001b[0mni\u001b[0m\u001b[0;34m+\u001b[0m\u001b[0;36m1\u001b[0m\u001b[0;34m]\u001b[0m \u001b[0;34m*\u001b[0m \u001b[0mfast_gama\u001b[0m\u001b[0;34m[\u001b[0m\u001b[0mni\u001b[0m\u001b[0;34m+\u001b[0m\u001b[0mabs\u001b[0m\u001b[0;34m(\u001b[0m\u001b[0mm\u001b[0m\u001b[0;34m)\u001b[0m\u001b[0;34m+\u001b[0m\u001b[0;36m1\u001b[0m\u001b[0;34m]\u001b[0m \u001b[0;34m/\u001b[0m \u001b[0;34m(\u001b[0m\u001b[0mfast_gama\u001b[0m\u001b[0;34m[\u001b[0m\u001b[0mn\u001b[0m\u001b[0;34m+\u001b[0m\u001b[0;36m1\u001b[0m\u001b[0;34m]\u001b[0m \u001b[0;34m*\u001b[0m \u001b[0;36m2\u001b[0m \u001b[0;34m*\u001b[0m \u001b[0mfast_gama\u001b[0m\u001b[0;34m[\u001b[0m\u001b[0mn\u001b[0m\u001b[0;34m+\u001b[0m\u001b[0mabs\u001b[0m\u001b[0;34m(\u001b[0m\u001b[0mm\u001b[0m\u001b[0;34m)\u001b[0m\u001b[0;34m+\u001b[0m\u001b[0;36m1\u001b[0m\u001b[0;34m]\u001b[0m\u001b[0;34m)\u001b[0m\u001b[0;34m)\u001b[0m\u001b[0;34m**\u001b[0m\u001b[0;34m(\u001b[0m\u001b[0;36m0.5\u001b[0m\u001b[0;34m)\u001b[0m\u001b[0;34m\u001b[0m\u001b[0;34m\u001b[0m\u001b[0m\n\u001b[1;32m     13\u001b[0m \u001b[0;34m\u001b[0m\u001b[0m\n",
            "\u001b[0;32m/usr/local/lib/python3.11/dist-packages/mpmath/ctx_mp_python.py\u001b[0m in \u001b[0;36m__mul__\u001b[0;34m(self, other)\u001b[0m\n",
            "\u001b[0;31mKeyboardInterrupt\u001b[0m: "
          ]
        }
      ],
      "source": [
        "#função de onda\n",
        "start = time.time()\n",
        "l=50\n",
        "\n",
        "ni=0\n",
        "n=250#(n-1) é dimensão\n",
        "mi=[0,-1,-2,-3,-4,-5]\n",
        "space=np.linspace(0,l,1000)\n",
        "for m in mi:\n",
        "    final=[]\n",
        "    g=np.linspace(0.1,7,10)\n",
        "    resul=[]\n",
        "    for j in g:\n",
        "        resul=[]\n",
        "        w,v=sc.linalg.eigh(np.array(matriz4(n,m,j)),driver='evr')\n",
        "        for k in space:\n",
        "            soma=0\n",
        "\n",
        "            for i in prange(n):\n",
        "\n",
        "                soma+=np.sqrt(math.factorial(i)*math.factorial(ni+abs(m))/(math.factorial(ni)*2**abs(m)*math.factorial(i+abs(m))))*v[0][0]/abs(v[0][0])*v[i][ni]*sc.special.assoc_laguerre(k*k*0.5, i, abs(m))\n",
        "\n",
        "            resul.append((soma*(k*k*0.5)**(np.abs(m)*0.5)*np.exp(-k*k*0.25))**2*k**2)\n",
        "        #gerando a função de onda\n",
        "        a=np.trapz(resul,space)\n",
        "        #print(a)\n",
        "        final.append(a)\n",
        "\n",
        "    plt.plot(g,final, label='$<r>$ m='+str(m)+' ')\n",
        "\n",
        "plt.ylabel(\"$<r>$ \",\n",
        "          fontdict={'family': 'serif',\n",
        "                    'color' : 'black',\n",
        "                    'weight': 'bold',\n",
        "                    'size': 16})\n",
        "plt.xlabel('$\\gamma_b$',\n",
        "          fontdict={'family': 'serif',\n",
        "                    'color' : 'black',\n",
        "                    'weight': 'bold',\n",
        "                    'size': 16})\n",
        "plt.title('Valor esperado da distância relativa',\n",
        "          fontdict={'family': 'serif',\n",
        "                    'color' : 'darkblue',\n",
        "                    'weight': 'bold',\n",
        "                    'size': 18})\n",
        "plt.legend()\n",
        "plt.savefig('myfigure_00.png', dpi=200)\n",
        "plt.grid()\n",
        "\n",
        "plt.show()"
      ]
    },
    {
      "cell_type": "markdown",
      "id": "85e8c232-e242-44e2-9d39-74cb32a1c55e",
      "metadata": {
        "id": "85e8c232-e242-44e2-9d39-74cb32a1c55e"
      },
      "source": [
        "Valor máximo $r_{max}$"
      ]
    },
    {
      "cell_type": "code",
      "execution_count": null,
      "id": "a751f81f-8888-478d-af6f-8b799670e7f0",
      "metadata": {
        "id": "a751f81f-8888-478d-af6f-8b799670e7f0"
      },
      "outputs": [],
      "source": [
        "#função de onda\n",
        "start = time.time()\n",
        "l=20\n",
        "vec=[]\n",
        "#final=[]\n",
        "mi=[0,-1,-2,-3,-4,-5,-6]\n",
        "ni=0\n",
        "n=250#(n-1) é i\n",
        "#rea=open('autovalores.txt','r')\n",
        "#lines = rea.read().split()\n",
        "space=np.linspace(0,l,500)\n",
        "g=np.linspace(0.1,7,20)\n",
        "for m in mi:\n",
        "    final=[]\n",
        "    for j in g:\n",
        "        resul=[]\n",
        "        w,v=sc.linalg.eigh(np.array(matriz4(n,m,j)),driver='evr')\n",
        "        #print(j)\n",
        "        for k in space:\n",
        "            soma=0\n",
        "\n",
        "            for i in prange(n):\n",
        "\n",
        "                soma+=np.sqrt(math.factorial(i)*math.factorial(ni+abs(m))/(math.factorial(ni)*2**abs(m)*math.factorial(i+abs(m))))*v[0][0]/abs(v[0][0])*v[i][ni]*sc.special.assoc_laguerre(k*k*0.5, i, abs(m))\n",
        "\n",
        "            resul.append((soma*(k*k*0.5)**(np.abs(m)*0.5)*np.exp(-k*k*0.25))**2)\n",
        "        #gerando a função de ondal\n",
        "        h=l/1000\n",
        "        #plt.plot(space,resul)\n",
        "        for indi in prange(len(space)):\n",
        "            der1=(resul[indi]-resul[indi+1])/h\n",
        "            der2=(resul[indi+1]-resul[indi+2])/h\n",
        "            if (der1*der2<0):\n",
        "                #print(round(indi*h,3))\n",
        "                final.append(round(indi*h,3))\n",
        "                break\n",
        "    plt.plot(g,final,label='$r_{max}$ m='+str(m))\n",
        "plt.ylabel(\"$r_{max}$ \",\n",
        "          fontdict={'family': 'serif',\n",
        "                    'color' : 'black',\n",
        "                    'weight': 'bold',\n",
        "                    'size': 16})\n",
        "plt.xlabel('$\\gamma_b$',\n",
        "          fontdict={'family': 'serif',\n",
        "                    'color' : 'black',\n",
        "                    'weight': 'bold',\n",
        "                    'size': 16})\n",
        "plt.title('Valor de máxima densidade de probabilidade',\n",
        "          fontdict={'family': 'serif',\n",
        "                    'color' : 'darkblue',\n",
        "                    'weight': 'bold',\n",
        "                    'size': 18})\n",
        "\n",
        "plt.legend()\n",
        "plt.tight_layout()\n",
        "plt.savefig('myfigure_01.png', dpi=200)\n",
        "plt.grid()\n",
        "\n",
        "plt.show()\n"
      ]
    },
    {
      "cell_type": "markdown",
      "id": "2278ba87-3220-4cd2-a272-795ff60bc5c4",
      "metadata": {
        "id": "2278ba87-3220-4cd2-a272-795ff60bc5c4",
        "tags": []
      },
      "source": [
        "# plot dos coeficientes do fits\n",
        "## primeiro fit\n",
        "$f(r)=ar^2+br+c$\n",
        "\n"
      ]
    },
    {
      "cell_type": "code",
      "execution_count": null,
      "id": "d60b442e-c864-4057-a763-fb49168e063e",
      "metadata": {
        "id": "d60b442e-c864-4057-a763-fb49168e063e"
      },
      "outputs": [],
      "source": [
        "def func_1(x,c,b,a):\n",
        "    return c*x**2+b*x+a"
      ]
    },
    {
      "cell_type": "code",
      "execution_count": null,
      "id": "3e47e801-efc3-4fc5-9378-a707c64ed228",
      "metadata": {
        "id": "3e47e801-efc3-4fc5-9378-a707c64ed228"
      },
      "outputs": [],
      "source": [
        "#função de onda\n",
        "start = time.time()\n",
        "l=6#tamanho do eixo x no grafico\n",
        "vec=[]\n",
        "m=0#degerencia\n",
        "ni=0#energias\n",
        "gab=y_3(m)\n",
        "print(gab)\n",
        "g=np.linspace(0,y_3(m),50)\n",
        "n=250#(n-1) é dimensão\n",
        "ac=[]\n",
        "for i in range(m):\n",
        "    vec.append([])\n",
        "\n",
        "#gerador de pontos de energia\n",
        "space=np.linspace(0,l,100)\n",
        "#for i in g:\n",
        "#gerando a função de onda\n",
        "ind=0\n",
        "for j in g:\n",
        "    w,v=sc.linalg.eigh(np.array(matriz1(n,m,j)))\n",
        "\n",
        "    resul=[]\n",
        "    popt,pcov=[],[]\n",
        "    for k in space:\n",
        "\n",
        "        soma=0\n",
        "        for i in range(n):\n",
        "\n",
        "            soma+=np.sqrt(math.factorial(i)*math.factorial(ni+abs(m))/(2**abs(m)*math.factorial(ni)*math.factorial(i+abs(m))))*v[i][ni]*sc.special.assoc_laguerre(k*k*0.5,i,abs(m))\n",
        "\n",
        "        resul.append(soma)\n",
        "\n",
        "\n",
        "    #plt.plot(space,resul, label = \"Numérico\")\n",
        "    popt,pcov= curve_fit(func_1,space,resul,maxfev=5000, method='trf')\n",
        "    #plt.plot(space, func(space, *popt), 'r-', label='fit1' )\n",
        "    ac.append(popt)\n",
        "    print(j,popt)\n",
        "\n",
        "\n",
        "#função quasi-exata\n",
        "\n",
        "#coeficientes\n",
        "#a0=(np.sqrt(2**(abs(m)-0.5)*sc.special.gamma(abs(m)*1.0+0.5)))**(-1)#1/np.linalg.norm(resul)#\n",
        "r=np.linspace(0,100000,10000000)\n",
        "#normalizando a0\n",
        "rad=(r)**(2*abs(m))*np.exp(-r**2*0.5)*(1+(2*gab)*r/(2*abs(m)+1)+r*r/(2*abs(m)+1))**2*r\n",
        "\n",
        "a0=(np.trapz(rad,r))**(-0.5)\n",
        "a1=(2*gab)*a0/(2*abs(m)+1)\n",
        "a2=a1/(2*gab)\n",
        "\n",
        "print('a2=',a2,'a1=',a1,'a0=',a0)\n",
        "#a2=a1/gab\n",
        "#espaço\n",
        "x=np.linspace(0,l,100)\n",
        "act=np.transpose(ac)\n",
        "print(act)\n",
        "plt.plot(g[:],act[0],label='a2')\n",
        "plt.plot(g[:],act[1],label='a1')\n",
        "plt.plot(g[:],act[2],label='a0')\n",
        "#plt.plot(g[2:],act[3][2:])\n",
        "#plot\n",
        "#plt.plot(x,(a2*x*x+a1*x+a0), label=\"Quasi-exact\")\n",
        "plt.ylabel(\"$|a_{n}|$\",\n",
        "          fontdict={'family': 'serif',\n",
        "                    'color' : 'black',\n",
        "                    'weight': 'bold',\n",
        "                    'size': 16})\n",
        "plt.xlabel('r',\n",
        "          fontdict={'family': 'serif',\n",
        "                    'color' : 'black',\n",
        "                    'weight': 'bold',\n",
        "                    'size': 16})\n",
        "\n",
        "plt.legend()\n",
        "plt.title('Valores dos coefientes',\n",
        "          fontdict={'family': 'serif',\n",
        "                    'color' : 'darkblue',\n",
        "                    'weight': 'bold',\n",
        "                    'size': 18})\n",
        "plt.tight_layout()\n",
        "plt.savefig('myfigure_03.png', dpi=200)\n",
        "plt.show()\n",
        "end = time.time()\n",
        "\n",
        "#print(end-start)"
      ]
    },
    {
      "cell_type": "markdown",
      "id": "3b6f38f6-0f71-41da-ba6d-cb6f95c1d908",
      "metadata": {
        "id": "3b6f38f6-0f71-41da-ba6d-cb6f95c1d908"
      },
      "source": [
        "## segundo fit\n",
        "$g(r)=ar^{b+1}+cr+d$"
      ]
    },
    {
      "cell_type": "code",
      "execution_count": null,
      "id": "c6fce87f-5cbe-4c10-8c4f-9a2e9892ef2b",
      "metadata": {
        "id": "c6fce87f-5cbe-4c10-8c4f-9a2e9892ef2b"
      },
      "outputs": [],
      "source": [
        "def func(x,a,b,c,d):\n",
        "    return a*x**(b+1)+c+d"
      ]
    },
    {
      "cell_type": "markdown",
      "id": "350b007e-d338-46a1-8604-799940894dfb",
      "metadata": {
        "id": "350b007e-d338-46a1-8604-799940894dfb"
      },
      "source": [
        "funções que define $\\gamma_{b}$"
      ]
    },
    {
      "cell_type": "code",
      "execution_count": null,
      "id": "120361c7-93d4-44fb-a06a-09a3fb47a408",
      "metadata": {
        "id": "120361c7-93d4-44fb-a06a-09a3fb47a408"
      },
      "outputs": [],
      "source": [
        "#função de onda\n",
        "start = time.time()\n",
        "l=6#tamanho do eixo x no grafico\n",
        "vec=[]\n",
        "m=0#degerencicia\n",
        "gab=y_3(m)\n",
        "ni=0#energias\n",
        "g=np.linspace(y_3(m),y_2(m),50)\n",
        "n=450#(n-1) é dimensão\n",
        "ac=[]\n",
        "\n",
        "for i in range(m):\n",
        "    vec.append([])\n",
        "#adicionar os coeficientes\n",
        "\n",
        "#gerador de pontos de energia\n",
        "space=np.linspace(0,l,100)\n",
        "#for i in g:\n",
        "#gerando a função de onda\n",
        "ind=0\n",
        "para=[0.14204798724830475,2.1,0.34794508774771815,0.14204798724830475]\n",
        "for j in g:\n",
        "    w,v=sc.linalg.eigh(np.array(matriz1(n,m,j)))\n",
        "\n",
        "    resul=[]\n",
        "    popt,pcov=[],[]\n",
        "    for k in space:\n",
        "\n",
        "        soma=0\n",
        "        for i in range(n):\n",
        "\n",
        "            soma+=np.sqrt(math.factorial(i)*math.factorial(ni+abs(m))/(2**abs(m)*math.factorial(ni)*math.factorial(i+abs(m))))*v[i][ni]*sc.special.assoc_laguerre(k*k*0.5,i,abs(m))\n",
        "\n",
        "        resul.append(soma)\n",
        "\n",
        "    if j==g[0]:\n",
        "      plt.plot(space,resul, label = \"Numérico\")\n",
        "      plt.show()\n",
        "    #plt.plot(space,resul, label = \"Numérico\")\n",
        "    popt,pcov= curve_fit(func,space,resul,p0=para,maxfev=100000,method='dogbox')\n",
        "    #plt.plot(space, func(space, *popt), 'r-', label='fit1' )\n",
        "    #if (1.1<=popt[1]<=0.9):\n",
        "    ac.append(popt)\n",
        "    print(j,popt)\n",
        "\n",
        "plt.ylabel(\"$R_{\"+str(ni)+\"}^{|\"+str(abs(m))+\"|}$($r$) \",\n",
        "          fontdict={'family': 'serif',\n",
        "                    'color' : 'black',\n",
        "                    'weight': 'bold',\n",
        "                    'size': 16})\n",
        "#função quasi-exata\n",
        "#coeficientes\n",
        "#a0=(np.sqrt(2**(abs(m)-0.5)*sc.special.gamma(abs(m)*1.0+0.5)))**(-1)#1/np.linalg.norm(resul)#\n",
        "r=np.linspace(0,100000,10000000)\n",
        "#normalizando a0\n",
        "rad=(r)**(2*abs(m))*np.exp(-r**2*0.5)*(1+(2*gab)*r/(2*abs(m)+1)+r*r/(2*abs(m)+1))**2*r\n",
        "\n",
        "a0=(np.trapz(rad,r))**(-0.5)\n",
        "a1=(2*gab)*a0/(2*abs(m)+1)\n",
        "a2=a1/(2*gab)\n",
        "\n",
        "print(f'gab={gab} a2={a2} a1={a1} a0={a0}')\n",
        "#a2=a1/gab\n",
        "#espaço\n",
        "x=np.linspace(0,l,100)\n",
        "#plot\n",
        "#plt.plot(x,(a2*x*x+a1*x+a0), label=\"Quasi-exact\")\n",
        "#print(ac)\n",
        "act=np.transpose(ac)\n",
        "plt.plot(g[:],act[0][:],label='a2')\n",
        "plt.plot(g[:],act[1][:],label='b')\n",
        "plt.plot(g[:],act[2][:],label='a1')\n",
        "plt.plot(g[:],act[3][:],label='a0')\n",
        "plt.ylabel(\"$|a_{n}|$ \",\n",
        "          fontdict={'family': 'serif',\n",
        "                    'color' : 'black',\n",
        "                    'weight': 'bold',\n",
        "                    'size': 16})\n",
        "\n",
        "plt.xlabel('$\\gamma_b$',\n",
        "          fontdict={'family': 'serif',\n",
        "                    'color' : 'black',\n",
        "                    'weight': 'bold',\n",
        "                    'size': 16})\n",
        "\n",
        "plt.title('Valores dos coefientes',\n",
        "          fontdict={'family': 'serif',\n",
        "                    'color' : 'darkblue',\n",
        "                    'weight': 'bold',\n",
        "                    'size': 18})\n",
        "\n",
        "plt.legend()\n",
        "plt.tight_layout()\n",
        "plt.savefig('myfigure_02.png', dpi=200)\n",
        "plt.show()\n",
        "end = time.time()\n",
        "\n",
        "#print(end-start)"
      ]
    },
    {
      "cell_type": "markdown",
      "id": "8ff6f242-b999-427b-9843-7fc15bc5b4dd",
      "metadata": {
        "id": "8ff6f242-b999-427b-9843-7fc15bc5b4dd"
      },
      "source": [
        "## terceiro fit\n",
        "$g(r)=ar^{b}+cr+d$"
      ]
    },
    {
      "cell_type": "code",
      "execution_count": null,
      "id": "387c638c-8587-426d-b977-70731a6f0f27",
      "metadata": {
        "id": "387c638c-8587-426d-b977-70731a6f0f27"
      },
      "outputs": [],
      "source": [
        "def func(x,b,c,d):\n",
        "    return b*x*x+c*x+d"
      ]
    },
    {
      "cell_type": "code",
      "execution_count": null,
      "id": "3151a8f9-1088-46f9-ab50-7194880f5894",
      "metadata": {
        "id": "3151a8f9-1088-46f9-ab50-7194880f5894"
      },
      "outputs": [],
      "source": [
        "\n",
        "\n",
        "start = time.time()\n",
        "l=6#tamanho do eixo x no grafico\n",
        "vec=[]\n",
        "m=0#degerencicia\n",
        "gab=y_3(m)\n",
        "ni=0#energias\n",
        "g=np.linspace(gab,gab,1)\n",
        "n=450#(n-1) é dimensão\n",
        "for i in range(m):\n",
        "    vec.append([])\n",
        "\n",
        "#gerador de pontos de energia\n",
        "space=np.linspace(0,l,100)\n",
        "#for i in g:\n",
        "#gerando a função de onda\n",
        "ind=0\n",
        "for j in g:\n",
        "    w,v=sc.linalg.eigh(np.array(matriz1(n,m,j)))\n",
        "\n",
        "    resul=[]\n",
        "    for k in space:\n",
        "\n",
        "        soma=0\n",
        "        for i in range(n):\n",
        "\n",
        "            soma+=np.sqrt(math.factorial(i)*math.factorial(ni+abs(m))/(2**abs(m)*math.factorial(ni)*math.factorial(i+abs(m))))*v[i][ni]*sc.special.assoc_laguerre(k*k*0.5,i,abs(m))\n",
        "\n",
        "        resul.append(soma)\n",
        "        #if i==0.0:\n",
        "        #    print(soma)\n",
        "\n",
        "\n",
        "    plt.plot(space,resul, label = \"Numérico\")\n",
        "\n",
        "\n",
        "plt.ylabel(\"$h_{\"+str(ni)+\"}^{|\"+str(abs(m))+\"|}$($r$)  e $P_{{3}}(r)$\",\n",
        "          fontdict={'family': 'serif',\n",
        "                    'color' : 'black',\n",
        "                    'weight': 'bold',\n",
        "                    'size': 16})\n",
        "#função quasi-exata\n",
        "\n",
        "#coeficientes\n",
        "#a0=(np.sqrt(2**(abs(m)-0.5)*sc.special.gamma(abs(m)*1.0+0.5)))**(-1)#1/np.linalg.norm(resul)#\n",
        "r=np.linspace(0,100000,10000000)\n",
        "#normalizando a0\n",
        "rad=(r)**(2*abs(m))*np.exp(-r**2*0.5)*(1+(2*gab)*r/(2*abs(m)+1)+r*r/(2*abs(m)+1))**2*r\n",
        "\n",
        "a0=(np.trapz(rad,r))**(-0.5)\n",
        "a1=(2*gab)*a0/(2*abs(m)+1)\n",
        "a2=a1/(2*gab)\n",
        "\n",
        "print('a2=',a2,'a1=',a1,'a0=',a0)\n",
        "#a2=a1/gab\n",
        "#espaço\n",
        "x=np.linspace(0,l,100)\n",
        "#np.trap()\n",
        "#plot\n",
        "plt.plot(x,(a2*x*x+a1*x+a0), label=\"Quasi-exact\",linestyle='--',color='red')\n",
        "plt.xlabel('r',\n",
        "          fontdict={'family': 'serif',\n",
        "                    'color' : 'black',\n",
        "                    'weight': 'bold',\n",
        "                    'size': 16})\n",
        "plt.title('Funções de onda ',\n",
        "          fontdict={'family': 'serif',\n",
        "                    'color' : 'darkblue',\n",
        "                    'weight': 'bold',\n",
        "                    'size': 18})\n",
        "plt.legend()\n",
        "\n",
        "plt.tight_layout()\n",
        "\n",
        "plt.show()\n",
        "end = time.time()\n",
        "\n",
        "#print(end-start)"
      ]
    },
    {
      "cell_type": "code",
      "execution_count": null,
      "id": "jzmDQTMbzbC2",
      "metadata": {
        "id": "jzmDQTMbzbC2"
      },
      "outputs": [],
      "source": [
        "def func(x,a,b,c,d):\n",
        "    return b*x**a+c*x+d"
      ]
    },
    {
      "cell_type": "code",
      "execution_count": null,
      "id": "48b5877c-0804-49ef-b781-d73b7b587f77",
      "metadata": {
        "id": "48b5877c-0804-49ef-b781-d73b7b587f77"
      },
      "outputs": [],
      "source": [
        "\n",
        "\n",
        "start = time.time()\n",
        "l=6#tamanho do eixo x no grafico\n",
        "vec=[]\n",
        "m=0#degerencicia\n",
        "gab=y_3(m)\n",
        "ni=0#energias\n",
        "g=np.linspace(gab,gab,1)\n",
        "n=450#(n-1) é dimensão\n",
        "for i in range(m):\n",
        "    vec.append([])\n",
        "\n",
        "#gerador de pontos de energia\n",
        "space=np.linspace(0,l,100)\n",
        "#for i in g:\n",
        "#gerando a função de onda\n",
        "ind=0\n",
        "for j in g:\n",
        "    w,v=sc.linalg.eigh(np.array(matriz1(n,m,j)))\n",
        "\n",
        "    resul=[]\n",
        "    for k in space:\n",
        "\n",
        "        soma=0\n",
        "        for i in range(n):\n",
        "\n",
        "            soma+=np.sqrt(math.factorial(i)*math.factorial(ni+abs(m))/(2**abs(m)*math.factorial(ni)*math.factorial(i+abs(m))))*v[i][ni]*sc.special.assoc_laguerre(k*k*0.5,i,abs(m))\n",
        "\n",
        "        resul.append(soma)\n",
        "        #if i==0.0:\n",
        "        #    print(soma)\n",
        "\n",
        "    popt,pcov= curve_fit(func,space,resul,p0=para,maxfev=100000,method='dogbox')\n",
        "    plt.plot(space,resul, label = \"Numérico\")\n",
        "\n",
        "    print(j,popt)\n",
        "plt.ylabel(\"$h_{\"+str(ni)+\"}^{|\"+str(abs(m))+\"|}$($r$)  e $P_{{3}}(r)$\",\n",
        "          fontdict={'family': 'serif',\n",
        "                    'color' : 'black',\n",
        "                    'weight': 'bold',\n",
        "                    'size': 16})\n",
        "#função quasi-exata\n",
        "\n",
        "#coeficientes\n",
        "#a0=(np.sqrt(2**(abs(m)-0.5)*sc.special.gamma(abs(m)*1.0+0.5)))**(-1)#1/np.linalg.norm(resul)#\n",
        "r=np.linspace(0,100000,10000000)\n",
        "#normalizando a0\n",
        "rad=(r)**(2*abs(m))*np.exp(-r**2*0.5)*(1+(2*gab)*r/(2*abs(m)+1)+r*r/(2*abs(m)+1))**2*r\n",
        "\n",
        "a0=(np.trapz(rad,r))**(-0.5)\n",
        "a1=(2*gab)*a0/(2*abs(m)+1)\n",
        "a2=a1/(2*gab)\n",
        "\n",
        "print('a2=',a2,'a1=',a1,'a0=',a0)\n",
        "#a2=a1/gab\n",
        "#espaço\n",
        "x=np.linspace(0,l,100)\n",
        "#np.trap()\n",
        "#plot\n",
        "plt.plot(x,(a2*x*x+a1*x+a0), label=\"Quasi-exact\",linestyle='--',color='red')\n",
        "plt.xlabel('r',\n",
        "          fontdict={'family': 'serif',\n",
        "                    'color' : 'black',\n",
        "                    'weight': 'bold',\n",
        "                    'size': 16})\n",
        "plt.title('Funções de onda ',\n",
        "          fontdict={'family': 'serif',\n",
        "                    'color' : 'darkblue',\n",
        "                    'weight': 'bold',\n",
        "                    'size': 18})\n",
        "plt.legend()\n",
        "\n",
        "plt.tight_layout()\n",
        "\n",
        "plt.show()\n",
        "end = time.time()\n",
        "\n",
        "#print(end-start)"
      ]
    }
  ],
  "metadata": {
    "colab": {
      "provenance": []
    },
    "gpuClass": "standard",
    "kernelspec": {
      "display_name": "Python 3 (ipykernel)",
      "language": "python",
      "name": "python3"
    },
    "language_info": {
      "codemirror_mode": {
        "name": "ipython",
        "version": 3
      },
      "file_extension": ".py",
      "mimetype": "text/x-python",
      "name": "python",
      "nbconvert_exporter": "python",
      "pygments_lexer": "ipython3",
      "version": "3.10.10"
    }
  },
  "nbformat": 4,
  "nbformat_minor": 5
}