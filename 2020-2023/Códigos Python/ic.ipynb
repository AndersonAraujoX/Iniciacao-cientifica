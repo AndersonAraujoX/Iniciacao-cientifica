{
  "cells": [
    {
      "cell_type": "code",
      "execution_count": null,
      "id": "53737bc1-7d43-4481-bd8c-3d8249b20add",
      "metadata": {
        "id": "53737bc1-7d43-4481-bd8c-3d8249b20add"
      },
      "outputs": [],
      "source": [
        "import sympy as sp\n",
        "import numpy as np\n",
        "import scipy.special as sc\n",
        "from numba import jit\n",
        "from numba import cuda\n",
        "import math\n",
        "import matplotlib.pyplot as plt\n",
        "from IPython.display import display\n",
        "from numpy import linalg\n",
        "from sympy.interactive import printing"
      ]
    },
    {
      "cell_type": "code",
      "execution_count": null,
      "id": "1fbdd537-a4f3-43cf-9f58-20139a657239",
      "metadata": {
        "id": "1fbdd537-a4f3-43cf-9f58-20139a657239"
      },
      "outputs": [],
      "source": [
        "def resul(n,ni,m):\n",
        "    fac2=np.sqrt(math.factorial(ni)*math.factorial(ni+abs(m))/(math.factorial(n)*math.factorial(n+abs(m))))\n",
        "    soma=0\n",
        "    for i in range(0,ni+1):\n",
        "        soma=soma+((-1)**i*sc.gamma(abs(m)+i+0.5)*sc.gamma(n-i+0.5))/(math.factorial(i)*math.factorial(ni-i)*math.factorial(abs(m)+i)*sc.gamma(0.5-i))\n",
        "    return soma*fac2/2**(0.5-abs(m))"
      ]
    },
    {
      "cell_type": "code",
      "execution_count": null,
      "id": "58796325-a9ad-4f8e-8cf8-3631c5c9dede",
      "metadata": {
        "id": "58796325-a9ad-4f8e-8cf8-3631c5c9dede",
        "outputId": "d7cb6008-1965-4bc6-aae5-40dd3e456658"
      },
      "outputs": [
        {
          "name": "stdout",
          "output_type": "stream",
          "text": [
            "degenerescência 0\n"
          ]
        },
        {
          "ename": "NameError",
          "evalue": "name 'resul1' is not defined",
          "output_type": "error",
          "traceback": [
            "\u001b[1;31m---------------------------------------------------------------------------\u001b[0m",
            "\u001b[1;31mNameError\u001b[0m                                 Traceback (most recent call last)",
            "Input \u001b[1;32mIn [3]\u001b[0m, in \u001b[0;36m<cell line: 7>\u001b[1;34m()\u001b[0m\n\u001b[0;32m     18\u001b[0m \u001b[38;5;66;03m#display(fac1*fac2*((r*r/2.0)**(abs(m))*sp.exp(-r*r/2.0))**2/r*sp.assoc_laguerre(n,abs(m),r*r/2.0)*sp.assoc_laguerre(ni,abs(m),r*r/2.0))\u001b[39;00m\n\u001b[0;32m     19\u001b[0m matriz[n][ni]\u001b[38;5;241m=\u001b[39mfac1\u001b[38;5;241m*\u001b[39mfac2\u001b[38;5;241m*\u001b[39msp\u001b[38;5;241m.\u001b[39mintegrate((r\u001b[38;5;241m*\u001b[39mr\u001b[38;5;241m/\u001b[39m\u001b[38;5;241m2.0\u001b[39m)\u001b[38;5;241m*\u001b[39m\u001b[38;5;241m*\u001b[39m(\u001b[38;5;28mabs\u001b[39m(m))\u001b[38;5;241m*\u001b[39msp\u001b[38;5;241m.\u001b[39mexp(\u001b[38;5;241m-\u001b[39mr\u001b[38;5;241m*\u001b[39mr\u001b[38;5;241m/\u001b[39m\u001b[38;5;241m2.0\u001b[39m)\u001b[38;5;241m*\u001b[39msp\u001b[38;5;241m.\u001b[39massoc_laguerre(n,\u001b[38;5;28mabs\u001b[39m(m),r\u001b[38;5;241m*\u001b[39mr\u001b[38;5;241m/\u001b[39m\u001b[38;5;241m2.0\u001b[39m)\u001b[38;5;241m*\u001b[39msp\u001b[38;5;241m.\u001b[39massoc_laguerre(ni,\u001b[38;5;28mabs\u001b[39m(m),r\u001b[38;5;241m*\u001b[39mr\u001b[38;5;241m/\u001b[39m\u001b[38;5;241m2.0\u001b[39m),(r,\u001b[38;5;241m0\u001b[39m,sp\u001b[38;5;241m.\u001b[39moo))\n\u001b[1;32m---> 21\u001b[0m \u001b[38;5;28mprint\u001b[39m(\u001b[38;5;124m\"\u001b[39m\u001b[38;5;124mHai\u001b[39m\u001b[38;5;124m\"\u001b[39m,\u001b[38;5;28mabs\u001b[39m(\u001b[43mresul1\u001b[49m(n,ni,m)\u001b[38;5;241m-\u001b[39mmatriz[n][ni]))            \n\u001b[0;32m     22\u001b[0m \u001b[38;5;28mprint\u001b[39m(\u001b[38;5;124m\"\u001b[39m\u001b[38;5;124mAnderson\u001b[39m\u001b[38;5;124m\"\u001b[39m,\u001b[38;5;28mabs\u001b[39m(resul2(n,ni,m)\u001b[38;5;241m-\u001b[39mmatriz[n][ni]),matriz[n][ni])\n\u001b[0;32m     23\u001b[0m soma\u001b[38;5;241m=\u001b[39msoma\u001b[38;5;241m+\u001b[39m\u001b[38;5;28mabs\u001b[39m(resul(n,ni,m)\u001b[38;5;241m-\u001b[39mmatriz[n][ni])\n",
            "\u001b[1;31mNameError\u001b[0m: name 'resul1' is not defined"
          ]
        }
      ],
      "source": [
        "#Calcular os coeficientes\n",
        "r=sp.symbols('r',real=True)\n",
        "m,n,ni=sp.symbols('m n ni',interger=True)\n",
        "#calculando cada elemento de matriz\n",
        "erro=[]\n",
        "l=5\n",
        "for m in range(0,3):\n",
        "    matriz=np.zeros((l,l))\n",
        "    print('degenerescência',m)\n",
        "    soma=0\n",
        "    for n in range(0,l):\n",
        "        for ni in range(0,l):\n",
        "\n",
        "            #integrando\n",
        "            fac1=math.factorial(n)/math.factorial(n+abs(m))\n",
        "            fac2=math.factorial(ni)/math.factorial(ni+abs(m))\n",
        "\n",
        "            #display(fac1*fac2*((r*r/2.0)**(abs(m))*sp.exp(-r*r/2.0))**2/r*sp.assoc_laguerre(n,abs(m),r*r/2.0)*sp.assoc_laguerre(ni,abs(m),r*r/2.0))\n",
        "            matriz[n][ni]=fac1*fac2*sp.integrate((r*r/2.0)**(abs(m))*sp.exp(-r*r/2.0)*sp.assoc_laguerre(n,abs(m),r*r/2.0)*sp.assoc_laguerre(ni,abs(m),r*r/2.0),(r,0,sp.oo))\n",
        "\n",
        "            print(\"Hai\",abs(resul1(n,ni,m)-matriz[n][ni]))\n",
        "            print(\"Anderson\",abs(resul2(n,ni,m)-matriz[n][ni]),matriz[n][ni])\n",
        "            soma=soma+abs(resul(n,ni,m)-matriz[n][ni])\n",
        "            if (n==ni):\n",
        "                matriz[n][ni]=matriz[n][ni]+n+(abs(m)+m+1)*0.5\n",
        "    print(\"erro divergencia do resultado analitico com numerico:\",soma/l**2)"
      ]
    },
    {
      "cell_type": "code",
      "execution_count": null,
      "id": "b57574f3-43b3-486a-b389-55563a7d16ae",
      "metadata": {
        "id": "b57574f3-43b3-486a-b389-55563a7d16ae",
        "outputId": "3fd3f30c-4cab-4950-a435-59c486cd007d"
      },
      "outputs": [
        {
          "ename": "NotImplementedError",
          "evalue": "\nNo algorithms are implemented to solve equation gamma(m + 1/2)",
          "output_type": "error",
          "traceback": [
            "\u001b[1;31m---------------------------------------------------------------------------\u001b[0m",
            "\u001b[1;31mNotImplementedError\u001b[0m                       Traceback (most recent call last)",
            "\u001b[1;32m<ipython-input-12-67cb74b0a6a5>\u001b[0m in \u001b[0;36m<module>\u001b[1;34m\u001b[0m\n\u001b[0;32m      1\u001b[0m \u001b[0mm\u001b[0m\u001b[1;33m,\u001b[0m\u001b[0mn\u001b[0m\u001b[1;33m,\u001b[0m\u001b[0mni\u001b[0m\u001b[1;33m=\u001b[0m\u001b[0msp\u001b[0m\u001b[1;33m.\u001b[0m\u001b[0msymbols\u001b[0m\u001b[1;33m(\u001b[0m\u001b[1;34m'm n ni'\u001b[0m\u001b[1;33m,\u001b[0m\u001b[0minterger\u001b[0m\u001b[1;33m=\u001b[0m\u001b[1;32mTrue\u001b[0m\u001b[1;33m,\u001b[0m\u001b[0mnonzero\u001b[0m\u001b[1;33m=\u001b[0m\u001b[1;32mTrue\u001b[0m\u001b[1;33m)\u001b[0m\u001b[1;33m\u001b[0m\u001b[1;33m\u001b[0m\u001b[0m\n\u001b[0;32m      2\u001b[0m \u001b[0mr\u001b[0m\u001b[1;33m=\u001b[0m\u001b[0msp\u001b[0m\u001b[1;33m.\u001b[0m\u001b[0msymbols\u001b[0m\u001b[1;33m(\u001b[0m\u001b[1;34m'r'\u001b[0m\u001b[1;33m,\u001b[0m\u001b[0mreal\u001b[0m\u001b[1;33m=\u001b[0m\u001b[1;32mTrue\u001b[0m\u001b[1;33m)\u001b[0m\u001b[1;33m\u001b[0m\u001b[1;33m\u001b[0m\u001b[0m\n\u001b[1;32m----> 3\u001b[1;33m \u001b[0mdisplay\u001b[0m\u001b[1;33m(\u001b[0m\u001b[0msp\u001b[0m\u001b[1;33m.\u001b[0m\u001b[0msolve\u001b[0m\u001b[1;33m(\u001b[0m\u001b[0msp\u001b[0m\u001b[1;33m.\u001b[0m\u001b[0mintegrate\u001b[0m\u001b[1;33m(\u001b[0m\u001b[0mr\u001b[0m\u001b[1;33m**\u001b[0m\u001b[0mabs\u001b[0m\u001b[1;33m(\u001b[0m\u001b[1;36m2\u001b[0m\u001b[1;33m*\u001b[0m\u001b[0mm\u001b[0m\u001b[1;33m)\u001b[0m\u001b[1;33m*\u001b[0m\u001b[0msp\u001b[0m\u001b[1;33m.\u001b[0m\u001b[0mexp\u001b[0m\u001b[1;33m(\u001b[0m\u001b[1;33m-\u001b[0m\u001b[0mr\u001b[0m\u001b[1;33m*\u001b[0m\u001b[0mr\u001b[0m\u001b[1;33m/\u001b[0m\u001b[1;36m4.0\u001b[0m\u001b[1;33m)\u001b[0m\u001b[1;33m,\u001b[0m\u001b[1;33m(\u001b[0m\u001b[0mr\u001b[0m\u001b[1;33m,\u001b[0m\u001b[1;36m0\u001b[0m\u001b[1;33m,\u001b[0m\u001b[0msp\u001b[0m\u001b[1;33m.\u001b[0m\u001b[0moo\u001b[0m\u001b[1;33m)\u001b[0m\u001b[1;33m)\u001b[0m\u001b[1;33m)\u001b[0m\u001b[1;33m)\u001b[0m\u001b[1;33m\u001b[0m\u001b[1;33m\u001b[0m\u001b[0m\n\u001b[0m\u001b[0;32m      4\u001b[0m \u001b[1;31m#display(sp.solve(sp.integrate(((r*r/2.0)**(abs(m)*0.5)*sp.exp(-r*r/4.0))**2*sp.assoc_laguerre(n,abs(m),r*r/2.0)*sp.assoc_laguerre(ni,abs(m),r*r/2.0),(r,0,sp.oo))))\u001b[0m\u001b[1;33m\u001b[0m\u001b[1;33m\u001b[0m\u001b[1;33m\u001b[0m\u001b[0m\n",
            "\u001b[1;32m~\\anaconda3\\lib\\site-packages\\sympy\\solvers\\solvers.py\u001b[0m in \u001b[0;36msolve\u001b[1;34m(f, *symbols, **flags)\u001b[0m\n\u001b[0;32m   1093\u001b[0m     \u001b[1;31m###########################################################################\u001b[0m\u001b[1;33m\u001b[0m\u001b[1;33m\u001b[0m\u001b[1;33m\u001b[0m\u001b[0m\n\u001b[0;32m   1094\u001b[0m     \u001b[1;32mif\u001b[0m \u001b[0mbare_f\u001b[0m\u001b[1;33m:\u001b[0m\u001b[1;33m\u001b[0m\u001b[1;33m\u001b[0m\u001b[0m\n\u001b[1;32m-> 1095\u001b[1;33m         \u001b[0msolution\u001b[0m \u001b[1;33m=\u001b[0m \u001b[0m_solve\u001b[0m\u001b[1;33m(\u001b[0m\u001b[0mf\u001b[0m\u001b[1;33m[\u001b[0m\u001b[1;36m0\u001b[0m\u001b[1;33m]\u001b[0m\u001b[1;33m,\u001b[0m \u001b[1;33m*\u001b[0m\u001b[0msymbols\u001b[0m\u001b[1;33m,\u001b[0m \u001b[1;33m**\u001b[0m\u001b[0mflags\u001b[0m\u001b[1;33m)\u001b[0m\u001b[1;33m\u001b[0m\u001b[1;33m\u001b[0m\u001b[0m\n\u001b[0m\u001b[0;32m   1096\u001b[0m     \u001b[1;32melse\u001b[0m\u001b[1;33m:\u001b[0m\u001b[1;33m\u001b[0m\u001b[1;33m\u001b[0m\u001b[0m\n\u001b[0;32m   1097\u001b[0m         \u001b[0msolution\u001b[0m \u001b[1;33m=\u001b[0m \u001b[0m_solve_system\u001b[0m\u001b[1;33m(\u001b[0m\u001b[0mf\u001b[0m\u001b[1;33m,\u001b[0m \u001b[0msymbols\u001b[0m\u001b[1;33m,\u001b[0m \u001b[1;33m**\u001b[0m\u001b[0mflags\u001b[0m\u001b[1;33m)\u001b[0m\u001b[1;33m\u001b[0m\u001b[1;33m\u001b[0m\u001b[0m\n",
            "\u001b[1;32m~\\anaconda3\\lib\\site-packages\\sympy\\solvers\\solvers.py\u001b[0m in \u001b[0;36m_solve\u001b[1;34m(f, *symbols, **flags)\u001b[0m\n\u001b[0;32m   1403\u001b[0m                 raise NotImplementedError(\n\u001b[0;32m   1404\u001b[0m                     'solve cannot represent interval solutions')\n\u001b[1;32m-> 1405\u001b[1;33m             \u001b[0mcandidates\u001b[0m \u001b[1;33m=\u001b[0m \u001b[0m_solve\u001b[0m\u001b[1;33m(\u001b[0m\u001b[0mexpr\u001b[0m\u001b[1;33m,\u001b[0m \u001b[0msymbol\u001b[0m\u001b[1;33m,\u001b[0m \u001b[1;33m**\u001b[0m\u001b[0mflags\u001b[0m\u001b[1;33m)\u001b[0m\u001b[1;33m\u001b[0m\u001b[1;33m\u001b[0m\u001b[0m\n\u001b[0m\u001b[0;32m   1406\u001b[0m             \u001b[1;31m# the explicit condition for this expr is the current cond\u001b[0m\u001b[1;33m\u001b[0m\u001b[1;33m\u001b[0m\u001b[1;33m\u001b[0m\u001b[0m\n\u001b[0;32m   1407\u001b[0m             \u001b[1;31m# and none of the previous conditions\u001b[0m\u001b[1;33m\u001b[0m\u001b[1;33m\u001b[0m\u001b[1;33m\u001b[0m\u001b[0m\n",
            "\u001b[1;32m~\\anaconda3\\lib\\site-packages\\sympy\\solvers\\solvers.py\u001b[0m in \u001b[0;36m_solve\u001b[1;34m(f, *symbols, **flags)\u001b[0m\n\u001b[0;32m   1381\u001b[0m                 \u001b[0mresult\u001b[0m \u001b[1;33m=\u001b[0m \u001b[0mset\u001b[0m\u001b[1;33m(\u001b[0m\u001b[1;33m)\u001b[0m\u001b[1;33m\u001b[0m\u001b[1;33m\u001b[0m\u001b[0m\n\u001b[0;32m   1382\u001b[0m                 \u001b[1;32mbreak\u001b[0m\u001b[1;33m\u001b[0m\u001b[1;33m\u001b[0m\u001b[0m\n\u001b[1;32m-> 1383\u001b[1;33m             \u001b[0msoln\u001b[0m \u001b[1;33m=\u001b[0m \u001b[0m_solve\u001b[0m\u001b[1;33m(\u001b[0m\u001b[0mm\u001b[0m\u001b[1;33m,\u001b[0m \u001b[0msymbol\u001b[0m\u001b[1;33m,\u001b[0m \u001b[1;33m**\u001b[0m\u001b[0mflags\u001b[0m\u001b[1;33m)\u001b[0m\u001b[1;33m\u001b[0m\u001b[1;33m\u001b[0m\u001b[0m\n\u001b[0m\u001b[0;32m   1384\u001b[0m             \u001b[0mresult\u001b[0m\u001b[1;33m.\u001b[0m\u001b[0mupdate\u001b[0m\u001b[1;33m(\u001b[0m\u001b[0mset\u001b[0m\u001b[1;33m(\u001b[0m\u001b[0msoln\u001b[0m\u001b[1;33m)\u001b[0m\u001b[1;33m)\u001b[0m\u001b[1;33m\u001b[0m\u001b[1;33m\u001b[0m\u001b[0m\n\u001b[0;32m   1385\u001b[0m         \u001b[0mresult\u001b[0m \u001b[1;33m=\u001b[0m \u001b[0mlist\u001b[0m\u001b[1;33m(\u001b[0m\u001b[0mresult\u001b[0m\u001b[1;33m)\u001b[0m\u001b[1;33m\u001b[0m\u001b[1;33m\u001b[0m\u001b[0m\n",
            "\u001b[1;32m~\\anaconda3\\lib\\site-packages\\sympy\\solvers\\solvers.py\u001b[0m in \u001b[0;36m_solve\u001b[1;34m(f, *symbols, **flags)\u001b[0m\n\u001b[0;32m   1712\u001b[0m \u001b[1;33m\u001b[0m\u001b[0m\n\u001b[0;32m   1713\u001b[0m     \u001b[1;32mif\u001b[0m \u001b[0mresult\u001b[0m \u001b[1;32mis\u001b[0m \u001b[1;32mFalse\u001b[0m\u001b[1;33m:\u001b[0m\u001b[1;33m\u001b[0m\u001b[1;33m\u001b[0m\u001b[0m\n\u001b[1;32m-> 1714\u001b[1;33m         \u001b[1;32mraise\u001b[0m \u001b[0mNotImplementedError\u001b[0m\u001b[1;33m(\u001b[0m\u001b[1;34m'\\n'\u001b[0m\u001b[1;33m.\u001b[0m\u001b[0mjoin\u001b[0m\u001b[1;33m(\u001b[0m\u001b[1;33m[\u001b[0m\u001b[0mmsg\u001b[0m\u001b[1;33m,\u001b[0m \u001b[0mnot_impl_msg\u001b[0m \u001b[1;33m%\u001b[0m \u001b[0mf\u001b[0m\u001b[1;33m]\u001b[0m\u001b[1;33m)\u001b[0m\u001b[1;33m)\u001b[0m\u001b[1;33m\u001b[0m\u001b[1;33m\u001b[0m\u001b[0m\n\u001b[0m\u001b[0;32m   1715\u001b[0m \u001b[1;33m\u001b[0m\u001b[0m\n\u001b[0;32m   1716\u001b[0m     \u001b[1;32mif\u001b[0m \u001b[0mflags\u001b[0m\u001b[1;33m.\u001b[0m\u001b[0mget\u001b[0m\u001b[1;33m(\u001b[0m\u001b[1;34m'simplify'\u001b[0m\u001b[1;33m,\u001b[0m \u001b[1;32mTrue\u001b[0m\u001b[1;33m)\u001b[0m\u001b[1;33m:\u001b[0m\u001b[1;33m\u001b[0m\u001b[1;33m\u001b[0m\u001b[0m\n",
            "\u001b[1;31mNotImplementedError\u001b[0m: \nNo algorithms are implemented to solve equation gamma(m + 1/2)"
          ]
        }
      ],
      "source": [
        "m,n,ni=sp.symbols('m n ni',interger=True,nonzero=True)\n",
        "r=sp.symbols('r',real=True)\n",
        "display(sp.solve(sp.integrate(r**abs(2*m)*sp.exp(-r*r/4.0),(r,0,sp.oo))))\n",
        "#display(sp.solve(sp.integrate(((r*r/2.0)**(abs(m)*0.5)*sp.exp(-r*r/4.0))**2*sp.assoc_laguerre(n,abs(m),r*r/2.0)*sp.assoc_laguerre(ni,abs(m),r*r/2.0),(r,0,sp.oo))))"
      ]
    },
    {
      "cell_type": "code",
      "execution_count": null,
      "id": "f32ad2da-bb2e-4b59-a523-371a9b25a6f8",
      "metadata": {
        "id": "f32ad2da-bb2e-4b59-a523-371a9b25a6f8",
        "outputId": "35b2639e-a8fd-4751-d75e-2a0bde8b7974"
      },
      "outputs": [
        {
          "data": {
            "text/latex": [
              "$\\displaystyle 0.5^{1.0 \\left|{m}\\right|} \\int\\limits_{0}^{\\infty} 1.0^{1.0 \\left|{m}\\right|} e^{- 0.5 r^{2}} \\left|{r}\\right|^{2.0 \\left|{m}\\right|} L_{n}^{\\left(\\left|{m}\\right|\\right)}\\left(0.5 r^{2}\\right) L_{ni}^{\\left(\\left|{m}\\right|\\right)}\\left(0.5 r^{2}\\right)\\, dr$"
            ],
            "text/plain": [
              "0.5**(1.0*Abs(m))*Integral(1.0**(1.0*Abs(m))*exp(-0.5*r**2)*Abs(r)**(2.0*Abs(m))*assoc_laguerre(n, Abs(m), 0.5*r**2)*assoc_laguerre(ni, Abs(m), 0.5*r**2), (r, 0, oo))"
            ]
          },
          "metadata": {},
          "output_type": "display_data"
        },
        {
          "ename": "NotImplementedError",
          "evalue": "No algorithms are implemented to solve equation Piecewise((2**(-m)*_Dummy_19812, m >= 0), (2**m*_Dummy_19812, True))",
          "output_type": "error",
          "traceback": [
            "\u001b[1;31m---------------------------------------------------------------------------\u001b[0m",
            "\u001b[1;31mNotImplementedError\u001b[0m                       Traceback (most recent call last)",
            "\u001b[1;32m<ipython-input-6-be72d00d19e6>\u001b[0m in \u001b[0;36m<module>\u001b[1;34m\u001b[0m\n\u001b[0;32m      2\u001b[0m \u001b[0mr\u001b[0m\u001b[1;33m=\u001b[0m\u001b[0msp\u001b[0m\u001b[1;33m.\u001b[0m\u001b[0msymbols\u001b[0m\u001b[1;33m(\u001b[0m\u001b[1;34m'r'\u001b[0m\u001b[1;33m,\u001b[0m\u001b[0mreal\u001b[0m\u001b[1;33m=\u001b[0m\u001b[1;32mTrue\u001b[0m\u001b[1;33m)\u001b[0m\u001b[1;33m\u001b[0m\u001b[1;33m\u001b[0m\u001b[0m\n\u001b[0;32m      3\u001b[0m \u001b[0mdisplay\u001b[0m\u001b[1;33m(\u001b[0m\u001b[0msp\u001b[0m\u001b[1;33m.\u001b[0m\u001b[0mintegrate\u001b[0m\u001b[1;33m(\u001b[0m\u001b[1;33m(\u001b[0m\u001b[1;33m(\u001b[0m\u001b[0mr\u001b[0m\u001b[1;33m*\u001b[0m\u001b[0mr\u001b[0m\u001b[1;33m/\u001b[0m\u001b[1;36m2.0\u001b[0m\u001b[1;33m)\u001b[0m\u001b[1;33m**\u001b[0m\u001b[1;33m(\u001b[0m\u001b[0mabs\u001b[0m\u001b[1;33m(\u001b[0m\u001b[0mm\u001b[0m\u001b[1;33m)\u001b[0m\u001b[1;33m*\u001b[0m\u001b[1;36m0.5\u001b[0m\u001b[1;33m)\u001b[0m\u001b[1;33m*\u001b[0m\u001b[0msp\u001b[0m\u001b[1;33m.\u001b[0m\u001b[0mexp\u001b[0m\u001b[1;33m(\u001b[0m\u001b[1;33m-\u001b[0m\u001b[0mr\u001b[0m\u001b[1;33m*\u001b[0m\u001b[0mr\u001b[0m\u001b[1;33m/\u001b[0m\u001b[1;36m4.0\u001b[0m\u001b[1;33m)\u001b[0m\u001b[1;33m)\u001b[0m\u001b[1;33m**\u001b[0m\u001b[1;36m2\u001b[0m\u001b[1;33m*\u001b[0m\u001b[0msp\u001b[0m\u001b[1;33m.\u001b[0m\u001b[0massoc_laguerre\u001b[0m\u001b[1;33m(\u001b[0m\u001b[0mn\u001b[0m\u001b[1;33m,\u001b[0m\u001b[0mabs\u001b[0m\u001b[1;33m(\u001b[0m\u001b[0mm\u001b[0m\u001b[1;33m)\u001b[0m\u001b[1;33m,\u001b[0m\u001b[0mr\u001b[0m\u001b[1;33m*\u001b[0m\u001b[0mr\u001b[0m\u001b[1;33m/\u001b[0m\u001b[1;36m2.0\u001b[0m\u001b[1;33m)\u001b[0m\u001b[1;33m*\u001b[0m\u001b[0msp\u001b[0m\u001b[1;33m.\u001b[0m\u001b[0massoc_laguerre\u001b[0m\u001b[1;33m(\u001b[0m\u001b[0mni\u001b[0m\u001b[1;33m,\u001b[0m\u001b[0mabs\u001b[0m\u001b[1;33m(\u001b[0m\u001b[0mm\u001b[0m\u001b[1;33m)\u001b[0m\u001b[1;33m,\u001b[0m\u001b[0mr\u001b[0m\u001b[1;33m*\u001b[0m\u001b[0mr\u001b[0m\u001b[1;33m/\u001b[0m\u001b[1;36m2.0\u001b[0m\u001b[1;33m)\u001b[0m\u001b[1;33m,\u001b[0m\u001b[1;33m(\u001b[0m\u001b[0mr\u001b[0m\u001b[1;33m,\u001b[0m\u001b[1;36m0\u001b[0m\u001b[1;33m,\u001b[0m\u001b[0msp\u001b[0m\u001b[1;33m.\u001b[0m\u001b[0moo\u001b[0m\u001b[1;33m)\u001b[0m\u001b[1;33m)\u001b[0m\u001b[1;33m)\u001b[0m\u001b[1;33m\u001b[0m\u001b[1;33m\u001b[0m\u001b[0m\n\u001b[1;32m----> 4\u001b[1;33m \u001b[0mdisplay\u001b[0m\u001b[1;33m(\u001b[0m\u001b[0msp\u001b[0m\u001b[1;33m.\u001b[0m\u001b[0msolve\u001b[0m\u001b[1;33m(\u001b[0m\u001b[0msp\u001b[0m\u001b[1;33m.\u001b[0m\u001b[0mintegrate\u001b[0m\u001b[1;33m(\u001b[0m\u001b[1;33m(\u001b[0m\u001b[1;33m(\u001b[0m\u001b[0mr\u001b[0m\u001b[1;33m*\u001b[0m\u001b[0mr\u001b[0m\u001b[1;33m/\u001b[0m\u001b[1;36m2.0\u001b[0m\u001b[1;33m)\u001b[0m\u001b[1;33m**\u001b[0m\u001b[1;33m(\u001b[0m\u001b[0mabs\u001b[0m\u001b[1;33m(\u001b[0m\u001b[0mm\u001b[0m\u001b[1;33m)\u001b[0m\u001b[1;33m*\u001b[0m\u001b[1;36m0.5\u001b[0m\u001b[1;33m)\u001b[0m\u001b[1;33m*\u001b[0m\u001b[0msp\u001b[0m\u001b[1;33m.\u001b[0m\u001b[0mexp\u001b[0m\u001b[1;33m(\u001b[0m\u001b[1;33m-\u001b[0m\u001b[0mr\u001b[0m\u001b[1;33m*\u001b[0m\u001b[0mr\u001b[0m\u001b[1;33m/\u001b[0m\u001b[1;36m4.0\u001b[0m\u001b[1;33m)\u001b[0m\u001b[1;33m)\u001b[0m\u001b[1;33m**\u001b[0m\u001b[1;36m2\u001b[0m\u001b[1;33m*\u001b[0m\u001b[0msp\u001b[0m\u001b[1;33m.\u001b[0m\u001b[0massoc_laguerre\u001b[0m\u001b[1;33m(\u001b[0m\u001b[0mn\u001b[0m\u001b[1;33m,\u001b[0m\u001b[0mabs\u001b[0m\u001b[1;33m(\u001b[0m\u001b[0mm\u001b[0m\u001b[1;33m)\u001b[0m\u001b[1;33m,\u001b[0m\u001b[0mr\u001b[0m\u001b[1;33m*\u001b[0m\u001b[0mr\u001b[0m\u001b[1;33m/\u001b[0m\u001b[1;36m2.0\u001b[0m\u001b[1;33m)\u001b[0m\u001b[1;33m*\u001b[0m\u001b[0msp\u001b[0m\u001b[1;33m.\u001b[0m\u001b[0massoc_laguerre\u001b[0m\u001b[1;33m(\u001b[0m\u001b[0mni\u001b[0m\u001b[1;33m,\u001b[0m\u001b[0mabs\u001b[0m\u001b[1;33m(\u001b[0m\u001b[0mm\u001b[0m\u001b[1;33m)\u001b[0m\u001b[1;33m,\u001b[0m\u001b[0mr\u001b[0m\u001b[1;33m*\u001b[0m\u001b[0mr\u001b[0m\u001b[1;33m/\u001b[0m\u001b[1;36m2.0\u001b[0m\u001b[1;33m)\u001b[0m\u001b[1;33m,\u001b[0m\u001b[1;33m(\u001b[0m\u001b[0mr\u001b[0m\u001b[1;33m,\u001b[0m\u001b[1;36m0\u001b[0m\u001b[1;33m,\u001b[0m\u001b[0msp\u001b[0m\u001b[1;33m.\u001b[0m\u001b[0moo\u001b[0m\u001b[1;33m)\u001b[0m\u001b[1;33m)\u001b[0m\u001b[1;33m)\u001b[0m\u001b[1;33m)\u001b[0m\u001b[1;33m\u001b[0m\u001b[1;33m\u001b[0m\u001b[0m\n\u001b[0m",
            "\u001b[1;32m~\\anaconda3\\lib\\site-packages\\sympy\\solvers\\solvers.py\u001b[0m in \u001b[0;36msolve\u001b[1;34m(f, *symbols, **flags)\u001b[0m\n\u001b[0;32m   1093\u001b[0m     \u001b[1;31m###########################################################################\u001b[0m\u001b[1;33m\u001b[0m\u001b[1;33m\u001b[0m\u001b[1;33m\u001b[0m\u001b[0m\n\u001b[0;32m   1094\u001b[0m     \u001b[1;32mif\u001b[0m \u001b[0mbare_f\u001b[0m\u001b[1;33m:\u001b[0m\u001b[1;33m\u001b[0m\u001b[1;33m\u001b[0m\u001b[0m\n\u001b[1;32m-> 1095\u001b[1;33m         \u001b[0msolution\u001b[0m \u001b[1;33m=\u001b[0m \u001b[0m_solve\u001b[0m\u001b[1;33m(\u001b[0m\u001b[0mf\u001b[0m\u001b[1;33m[\u001b[0m\u001b[1;36m0\u001b[0m\u001b[1;33m]\u001b[0m\u001b[1;33m,\u001b[0m \u001b[1;33m*\u001b[0m\u001b[0msymbols\u001b[0m\u001b[1;33m,\u001b[0m \u001b[1;33m**\u001b[0m\u001b[0mflags\u001b[0m\u001b[1;33m)\u001b[0m\u001b[1;33m\u001b[0m\u001b[1;33m\u001b[0m\u001b[0m\n\u001b[0m\u001b[0;32m   1096\u001b[0m     \u001b[1;32melse\u001b[0m\u001b[1;33m:\u001b[0m\u001b[1;33m\u001b[0m\u001b[1;33m\u001b[0m\u001b[0m\n\u001b[0;32m   1097\u001b[0m         \u001b[0msolution\u001b[0m \u001b[1;33m=\u001b[0m \u001b[0m_solve_system\u001b[0m\u001b[1;33m(\u001b[0m\u001b[0mf\u001b[0m\u001b[1;33m,\u001b[0m \u001b[0msymbols\u001b[0m\u001b[1;33m,\u001b[0m \u001b[1;33m**\u001b[0m\u001b[0mflags\u001b[0m\u001b[1;33m)\u001b[0m\u001b[1;33m\u001b[0m\u001b[1;33m\u001b[0m\u001b[0m\n",
            "\u001b[1;32m~\\anaconda3\\lib\\site-packages\\sympy\\solvers\\solvers.py\u001b[0m in \u001b[0;36m_solve\u001b[1;34m(f, *symbols, **flags)\u001b[0m\n\u001b[0;32m   1363\u001b[0m             \u001b[1;32mreturn\u001b[0m \u001b[0mresult\u001b[0m\u001b[1;33m\u001b[0m\u001b[1;33m\u001b[0m\u001b[0m\n\u001b[0;32m   1364\u001b[0m         \u001b[1;32melse\u001b[0m\u001b[1;33m:\u001b[0m\u001b[1;33m\u001b[0m\u001b[1;33m\u001b[0m\u001b[0m\n\u001b[1;32m-> 1365\u001b[1;33m             \u001b[1;32mraise\u001b[0m \u001b[0mNotImplementedError\u001b[0m\u001b[1;33m(\u001b[0m\u001b[0mnot_impl_msg\u001b[0m \u001b[1;33m%\u001b[0m \u001b[0mf\u001b[0m\u001b[1;33m)\u001b[0m\u001b[1;33m\u001b[0m\u001b[1;33m\u001b[0m\u001b[0m\n\u001b[0m\u001b[0;32m   1366\u001b[0m     \u001b[0msymbol\u001b[0m \u001b[1;33m=\u001b[0m \u001b[0msymbols\u001b[0m\u001b[1;33m[\u001b[0m\u001b[1;36m0\u001b[0m\u001b[1;33m]\u001b[0m\u001b[1;33m\u001b[0m\u001b[1;33m\u001b[0m\u001b[0m\n\u001b[0;32m   1367\u001b[0m \u001b[1;33m\u001b[0m\u001b[0m\n",
            "\u001b[1;31mNotImplementedError\u001b[0m: No algorithms are implemented to solve equation Piecewise((2**(-m)*_Dummy_19812, m >= 0), (2**m*_Dummy_19812, True))"
          ]
        }
      ],
      "source": [
        "m,n,ni=sp.symbols('m n ni',interger=True,nonzero=True)\n",
        "r=sp.symbols('r',real=True)\n",
        "display(sp.integrate(((r*r/2.0)**(abs(m)*0.5)*sp.exp(-r*r/4.0))**2*sp.assoc_laguerre(n,abs(m),r*r/2.0)*sp.assoc_laguerre(ni,abs(m),r*r/2.0),(r,0,sp.oo)))\n",
        "display(sp.solve(sp.integrate(((r*r/2.0)**(abs(m)*0.5)*sp.exp(-r*r/4.0))**2*sp.assoc_laguerre(n,abs(m),r*r/2.0)*sp.assoc_laguerre(ni,abs(m),r*r/2.0),(r,0,sp.oo))))"
      ]
    },
    {
      "cell_type": "code",
      "execution_count": null,
      "id": "242e07a0-79b8-45a9-b07a-d0ddc15fe34d",
      "metadata": {
        "id": "242e07a0-79b8-45a9-b07a-d0ddc15fe34d"
      },
      "outputs": [],
      "source": [
        "    print(\"matriz dos produtos interno das autofunções\")\n",
        "    fig, ax = plt.subplots(figsize=(10,10))\n",
        "    ax.matshow(matriz, cmap='plasma')\n",
        "    for (i, j), z in np.ndenumerate(matriz):\n",
        "        ax.text(j, i, '{:0.001f}'.format(z), ha='center', va='center')\n",
        "    plt.show()\n",
        "    w, v = np.linalg.eig(matriz)\n",
        "    print(\"erro divergencia do resultado analitico com numerico:\",soma/25)\n",
        "    erro.append(soma/25)\n",
        "    print(\"auto energias\")\n",
        "    print(w)\n",
        "    print(\"matriz dos autovetores, onde cada autovalor está na lista de cima\")\n",
        "    fig, ax = plt.subplots(figsize=(10,10))\n",
        "    ax.matshow(v, cmap='plasma')\n",
        "    for (i, j), z in np.ndenumerate(v):\n",
        "        ax.text(j, i, '{:0.001f}'.format(z), ha='center', va='center')\n",
        "    plt.show()"
      ]
    },
    {
      "cell_type": "code",
      "execution_count": null,
      "id": "8fc0d7ad-9e7e-4da5-b686-1301b8465fd1",
      "metadata": {
        "id": "8fc0d7ad-9e7e-4da5-b686-1301b8465fd1"
      },
      "outputs": [],
      "source": [
        "def resul1(n,ni,m):\n",
        "    fac2=np.sqrt(math.factorial(ni)*math.factorial(ni+abs(m))/(math.factorial(n)*math.factorial(n+abs(m))))\n",
        "    soma=0\n",
        "    for i in range(0,ni+1):\n",
        "        soma=soma+((-1)**i*sc.gamma(abs(m)+i+0.5)*sc.gamma(n-i+0.5))/(math.factorial(i)*math.factorial(ni-i)*math.factorial(abs(m)+i)*sc.gamma(0.5-i))\n",
        "    return soma*fac2"
      ]
    },
    {
      "cell_type": "code",
      "execution_count": null,
      "id": "0ce238ca-588b-4c2b-bf93-201279276c7d",
      "metadata": {
        "id": "0ce238ca-588b-4c2b-bf93-201279276c7d"
      },
      "outputs": [],
      "source": [
        "def resul2(n,ni,m):\n",
        "    fac2=math.factorial(ni)*math.factorial(n)*np.sqrt(math.factorial(ni)/math.factorial(ni+abs(m))*(math.factorial(n)/math.factorial(n+abs(m))))\n",
        "    soma=0\n",
        "    for i in range(0,(ni+1-abs(m))):\n",
        "        for j in range(0,(n+1-abs(m))):\n",
        "            soma=soma+(-1)**(i+j)*sc.gamma(abs(m)+i+0.5+j)/(math.factorial(i)*math.factorial(j)*math.factorial(ni-abs(m)-i)*math.factorial(n-abs(m)-j)*math.factorial(abs(m)+i)*math.factorial(abs(m)+j))\n",
        "    return soma*fac2"
      ]
    },
    {
      "cell_type": "code",
      "execution_count": null,
      "id": "15e71de7-01e4-405d-950d-76f6d3c0d79c",
      "metadata": {
        "id": "15e71de7-01e4-405d-950d-76f6d3c0d79c",
        "outputId": "f8a54df9-0376-448b-d05b-1063d5aa0d5d"
      },
      "outputs": [
        {
          "ename": "NameError",
          "evalue": "name 'np' is not defined",
          "output_type": "error",
          "traceback": [
            "\u001b[1;31m---------------------------------------------------------------------------\u001b[0m",
            "\u001b[1;31mNameError\u001b[0m                                 Traceback (most recent call last)",
            "Input \u001b[1;32mIn [2]\u001b[0m, in \u001b[0;36m<cell line: 3>\u001b[1;34m()\u001b[0m\n\u001b[0;32m      1\u001b[0m l\u001b[38;5;241m=\u001b[39m\u001b[38;5;241m5\u001b[39m\n\u001b[0;32m      2\u001b[0m m\u001b[38;5;241m=\u001b[39m\u001b[38;5;241m3\u001b[39m\n\u001b[1;32m----> 3\u001b[0m matriz\u001b[38;5;241m=\u001b[39m\u001b[43mnp\u001b[49m\u001b[38;5;241m.\u001b[39mzeros((l,l))\n\u001b[0;32m      4\u001b[0m \u001b[38;5;28;01mfor\u001b[39;00m n \u001b[38;5;129;01min\u001b[39;00m \u001b[38;5;28mrange\u001b[39m(\u001b[38;5;241m0\u001b[39m,l): \n\u001b[0;32m      5\u001b[0m     \u001b[38;5;28;01mfor\u001b[39;00m ni \u001b[38;5;129;01min\u001b[39;00m \u001b[38;5;28mrange\u001b[39m(\u001b[38;5;241m0\u001b[39m,l):\n",
            "\u001b[1;31mNameError\u001b[0m: name 'np' is not defined"
          ]
        }
      ],
      "source": [
        "l=5\n",
        "m=3\n",
        "matriz=np.zeros((l,l))\n",
        "for n in range(0,l):\n",
        "    for ni in range(0,l):\n",
        "        matriz[n][ni]=resul1(n,ni,m)\n",
        "#w é as autoenergias e v é as autofunções\n",
        "x = np.linspace(0,10,500)\n",
        "print(matriz)\n",
        "w, v = np.linalg.eig(matriz)\n",
        "#print(v)o\n",
        "f=open('autovetores2.txt','w')\n",
        "\n",
        "for i in range(0,l):\n",
        "    np.savetxt(f, v[:][i])\n",
        "\n",
        "#w\n",
        "#for n in range(0,l):\n",
        "#        fac1=math.factorial(n)/math.factorial(n+abs(m))\n",
        "\n",
        "#y=v[0][0]*fac1*(x*x/2.0)**(abs(m)*0.5)*np.exp(-x*x/4.0)*sp.assoc_laguerre(0,abs(m),x*x/2.0)+v[0][1]*fac1*(x*x/2.0)**(abs(m)*0.5)*np.exp(-x*x/4.0)*sp.assoc_laguerre(1,abs(m),x*x/2.0)\n",
        "\n",
        "#plt.plot(x,y, 'r')\n",
        "\n",
        "# show the plot\n",
        "#plt.show()"
      ]
    },
    {
      "cell_type": "code",
      "execution_count": null,
      "id": "843a5bfc-0f54-4069-bf6e-30a8ece04e11",
      "metadata": {
        "id": "843a5bfc-0f54-4069-bf6e-30a8ece04e11",
        "outputId": "29a0bbb6-a18d-4dfc-f0d0-f32dec44bcf0"
      },
      "outputs": [
        {
          "data": {
            "text/latex": [
              "$\\displaystyle 2$"
            ],
            "text/plain": [
              "2"
            ]
          },
          "execution_count": 20,
          "metadata": {},
          "output_type": "execute_result"
        }
      ],
      "source": [
        "\n",
        "sp.assoc_laguerre(1,1,0)"
      ]
    },
    {
      "cell_type": "code",
      "execution_count": null,
      "id": "46fd04cf-cf81-45a1-a9a6-133f82c44525",
      "metadata": {
        "id": "46fd04cf-cf81-45a1-a9a6-133f82c44525",
        "outputId": "093db347-c478-4fbb-99db-76d241a621da"
      },
      "outputs": [
        {
          "name": "stdin",
          "output_type": "stream",
          "text": [
            "digite o indice n_{p} 4\n"
          ]
        },
        {
          "name": "stdout",
          "output_type": "stream",
          "text": [
            "5\n",
            "[[-1.92903587  3.          0.          0.          0.        ]\n",
            " [ 4.         -1.92903587  8.          0.          0.        ]\n",
            " [ 0.          3.         -1.92903587 15.          0.        ]\n",
            " [ 0.          0.          2.         -1.92903587 24.        ]\n",
            " [ 0.          0.          0.         -1.          1.92903587]]\n",
            "1741.8056387691447\n"
          ]
        }
      ],
      "source": [
        "n=int(input('digite o indice n_{p}'))+1\n",
        "print(n)\n",
        "\n",
        "matriz=np.zeros((n,n))\n",
        "\n",
        "m=1\n",
        "gamma=((5.0*abs(m)+5)-(73+64*abs(m)*(2+abs(m)))**0.5/2)**0.5/2**0.5\n",
        "\n",
        "matriz[0][0]=-2*gamma\n",
        "matriz[0][1]=2*abs(m)+1\n",
        "for i in range(1,n):\n",
        "    for j in range(0,n):\n",
        "        if((i+1)==n):\n",
        "            if((i-j)==0):\n",
        "                matriz[i][-n+j]=2*gamma\n",
        "            elif((i-j)==1):\n",
        "                matriz[i][-n+j]=i-n\n",
        "        else:\n",
        "            if((i-j)==1):\n",
        "                matriz[i][-n+j]=(-i+n)\n",
        "            elif((i-j)==0):\n",
        "                matriz[i][-n+j]=-2*gamma\n",
        "            elif((i-j)==-1):\n",
        "                matriz[i][-n+j]=(2*abs(m)+(i+1))*(i+1)\n",
        "print(matriz)\n",
        "print(np.linalg.det(matriz))"
      ]
    },
    {
      "cell_type": "code",
      "execution_count": null,
      "id": "5155d7cf-7909-4c4f-9142-00ae0fb2ac2e",
      "metadata": {
        "id": "5155d7cf-7909-4c4f-9142-00ae0fb2ac2e"
      },
      "outputs": [],
      "source": []
    }
  ],
  "metadata": {
    "kernelspec": {
      "display_name": "Python 3 (ipykernel)",
      "language": "python",
      "name": "python3"
    },
    "language_info": {
      "codemirror_mode": {
        "name": "ipython",
        "version": 3
      },
      "file_extension": ".py",
      "mimetype": "text/x-python",
      "name": "python",
      "nbconvert_exporter": "python",
      "pygments_lexer": "ipython3",
      "version": "3.9.12"
    },
    "colab": {
      "provenance": []
    }
  },
  "nbformat": 4,
  "nbformat_minor": 5
}