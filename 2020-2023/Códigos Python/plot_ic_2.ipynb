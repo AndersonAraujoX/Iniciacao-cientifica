{
 "cells": [
  {
   "cell_type": "code",
   "execution_count": 4,
   "id": "88036860-6260-4965-98e2-6054c1c575b9",
   "metadata": {},
   "outputs": [],
   "source": [
    "import matplotlib.pyplot as plt\n",
    "import numpy as np\n",
    "import math\n",
    "import scipy as sc\n",
    "from scipy import special;\n",
    "plt.rcParams['text.usetex'] = True\n",
    "import mpmath\n",
    "import decimal"
   ]
  },
  {
   "cell_type": "code",
   "execution_count": 5,
   "id": "5471900f-5365-459f-bfc3-c5ac63623c9e",
   "metadata": {},
   "outputs": [],
   "source": [
    "from numba import jit,vectorize,njit\n",
    "from numba import njit, prange\n",
    "import time\n",
    "import matplotlib.pyplot as plt\n",
    "from scipy.optimize import curve_fit"
   ]
  },
  {
   "cell_type": "markdown",
   "id": "5ef4fc23-0599-41c8-975d-c6b664e2a24f",
   "metadata": {},
   "source": [
    "Geral matriz <n,m|$\\frac{\\gamma_b}{r}$|$n^{\\prime}$,m>"
   ]
  },
  {
   "cell_type": "code",
   "execution_count": 4,
   "id": "a7bbf0ad-cc82-47fa-a487-0bb070fbe7a2",
   "metadata": {},
   "outputs": [],
   "source": [
    "#@jit\n",
    "def matriz(n,m,g):\n",
    "    matriz=np.empty((n,n))\n",
    "    for i in prange(n):\n",
    "        for j in prange(n):\n",
    "            if (i==j):\n",
    "                matriz[i][j]=(j+0.5)+g*anali(i,j,m)\n",
    "            else:\n",
    "                matriz[i][j]=g*anali(i,j,m)\n",
    "    return matriz"
   ]
  },
  {
   "cell_type": "markdown",
   "id": "d0d585cb-6c98-44e2-940c-515d18cadec5",
   "metadata": {},
   "source": [
    "Resultado analitico de cada elemento de matriz"
   ]
  },
  {
   "cell_type": "code",
   "execution_count": 48,
   "id": "fafb3cd3-3b92-47bd-8023-97395ec789e3",
   "metadata": {},
   "outputs": [],
   "source": [
    "def resul2(n,ni,m):\n",
    "    soma=0\n",
    "    for i in range(ni+1):\n",
    "        for j in range(n+1):\n",
    "            soma=soma+(-1)**(i+j)*math.gamma(abs(m)+i+0.5+j)/(math.factorial(i)*math.factorial(j)*math.factorial(ni-i)*math.factorial(n-j)*math.factorial(abs(m)+i)*math.factorial(abs(m)+j))\n",
    "    #print(soma,np.sqrt(math.factorial(ni)*math.factorial(ni+abs(m))*(math.factorial(n)*math.factorial(n+abs(m))/2)))\n",
    "    return soma*np.sqrt(math.factorial(ni)*math.factorial(ni+abs(m))*(math.factorial(n)*math.factorial(n+abs(m))/2))"
   ]
  },
  {
   "cell_type": "code",
   "execution_count": 40,
   "id": "fbfa9d2b-ae85-4644-8eae-c02a1fe1a082",
   "metadata": {},
   "outputs": [],
   "source": [
    "#@njit\n",
    "def resul4(n, ni, m):\n",
    "    decimal.getcontext().prec = 50 # set a higher precision for the intermediate calculations\n",
    "    fac2 = decimal.Decimal(str(mpmath.factorial(ni))) * decimal.Decimal(str(mpmath.factorial(n))) * decimal.Decimal(str(mpmath.sqrt(mpmath.factorial(ni) / mpmath.factorial(ni + abs(m)) * (mpmath.factorial(n) / mpmath.factorial(n + abs(m))))))\n",
    "    soma = decimal.Decimal(0)\n",
    "\n",
    "    for i in prange(0, (ni + 1 - abs(m))):\n",
    "        for j in prange(0, (n + 1 - abs(m))):\n",
    "            # evaluate the gamma function with high precision using mpmath\n",
    "            gamma1 = mpmath.gamma(decimal.Decimal(abs(m)) + decimal.Decimal(i) + decimal.Decimal('0.5') + decimal.Decimal(j))\n",
    "\n",
    "            # calculate the product of factorials without using math.factorial\n",
    "            factorial_product = decimal.Decimal(1)\n",
    "            for k in prange(i):\n",
    "                factorial_product *= decimal.Decimal(k + 1)\n",
    "            for k in prange(j):\n",
    "                factorial_product *= decimal.Decimal(k + 1)\n",
    "            for k in prange(ni - abs(m) - i):\n",
    "                factorial_product *= decimal.Decimal(k + 1)\n",
    "            for k in prange(n - abs(m) - j):\n",
    "                factorial_product *= decimal.Decimal(k + 1)\n",
    "            for k in prange(abs(m) + i):\n",
    "                factorial_product *= decimal.Decimal(k + 1)\n",
    "            for k in prange(abs(m) + j):\n",
    "                factorial_product *= decimal.Decimal(k + 1)\n",
    "\n",
    "            # add the term to the sum\n",
    "            soma += (-1) ** (i + j) * gamma1 / factorial_product\n",
    "\n",
    "    return soma * fac2\n"
   ]
  },
  {
   "cell_type": "code",
   "execution_count": 23,
   "id": "9113bf22-356c-4b72-8a0e-c1dc574c2457",
   "metadata": {},
   "outputs": [],
   "source": [
    "def resul3(n,ni,m):\n",
    "    fac2=math.factorial(ni)*math.factorial(n)*np.sqrt(math.factorial(ni)/math.factorial(ni+abs(m))*(math.factorial(n)/math.factorial(n+abs(m))))\n",
    "    soma=0\n",
    "    for i in range(0,(ni+1-abs(m))):\n",
    "        for j in range(0,(n+1-abs(m))):\n",
    "            soma=soma+(-1)**(i+j)*math.gamma(abs(m)+i+0.5+j)/(math.factorial(i)*math.factorial(j)*math.factorial(ni-abs(m)-i)*math.factorial(n-abs(m)-j)*math.factorial(abs(m)+i)*math.factorial(abs(m)+j))\n",
    "    return soma*fac2"
   ]
  },
  {
   "cell_type": "code",
   "execution_count": 55,
   "id": "834efa7b-fba5-48a8-9f4b-693528564901",
   "metadata": {
    "tags": []
   },
   "outputs": [],
   "source": [
    "#@njit(parallel=True)\n",
    "def anali(n,ni,m):\n",
    "    a=0\n",
    "    for i in prange(ni+1):\n",
    "        a+=(-1)**i*(math.gamma(i+abs(m)+0.5)*math.gamma(n-i+0.5))/(math.gamma(i+1.0)*math.gamma(ni-i+1.0)*math.gamma(i+abs(m)+1.0)*math.gamma(0.5-i))\n",
    "    a=a*math.sqrt(math.gamma(ni+1.0)*math.gamma(ni+abs(m)+1.0)/(math.gamma(n+1.0)*2*math.gamma(n+abs(m)+1.0)))\n",
    "    return a"
   ]
  },
  {
   "cell_type": "code",
   "execution_count": 109,
   "id": "6d401935-771c-429b-81cb-0cc703722ec2",
   "metadata": {},
   "outputs": [],
   "source": [
    "@jit\n",
    "def anali2(n, ni, m):\n",
    "    a = 0\n",
    "    for i in prange(ni+1):\n",
    "        a += (-1)**i * (mpmath.gamma(i+abs(m)+0.5) * mpmath.gamma(n-i+0.5)) / (mpmath.gamma(i+1.0) * mpmath.gamma(ni-i+1.0) * mpmath.gamma(i+abs(m)+1.0) * mpmath.gamma(0.5-i))\n",
    "    return  a * mpmath.sqrt(mpmath.gamma(ni+1.0) * mpmath.gamma(ni+abs(m)+1.0) / (mpmath.gamma(n+1.0) * 2*mpmath.gamma(n+abs(m)+1.0)))\n"
   ]
  },
  {
   "cell_type": "code",
   "execution_count": 114,
   "id": "7984a3ae-faab-4b49-a89a-db22197a086c",
   "metadata": {},
   "outputs": [
    {
     "name": "stdout",
     "output_type": "stream",
     "text": [
      "0.0828594355114946\n",
      "0.4197573661804199\n"
     ]
    }
   ],
   "source": [
    "start=time.time()\n",
    "print(anali2(1000,1000,0))\n",
    "print(-start+time.time())"
   ]
  },
  {
   "cell_type": "code",
   "execution_count": 100,
   "id": "4bdfde25-d2bb-472f-bdd8-369d77cc0290",
   "metadata": {},
   "outputs": [],
   "source": [
    "#@njit(parallel=True)\n",
    "def matriz2(n,m,g):\n",
    "    matriz=np.empty((n,n))\n",
    "    for i in prange(n):\n",
    "        for j in prange(i,n):\n",
    "            if i == j:\n",
    "                a = g*anali2(j,i,m)+(i+0.5)\n",
    "            else:\n",
    "                a = g*anali2(j,i,m)\n",
    "            matriz[j][i] = matriz[i][j] =  a\n",
    "    return matriz\n"
   ]
  },
  {
   "cell_type": "code",
   "execution_count": 35,
   "id": "0bc946c2-3d63-49a8-b021-60f3cecc2643",
   "metadata": {},
   "outputs": [],
   "source": [
    "#@jit\n",
    "def f(r,n,m):\n",
    "    x=r*0.5*r\n",
    "    return math.sqrt(math.factorial(n)/math.factorial(n+abs(m)))*(x)**(np.abs(m)*0.5)*np.exp(-x*0.5)*sc.special.assoc_laguerre(x, n, np.abs(m))"
   ]
  },
  {
   "cell_type": "code",
   "execution_count": 32,
   "id": "2e775b00-1bcb-4ef0-9e4b-422693ac67ba",
   "metadata": {},
   "outputs": [],
   "source": [
    "import mpmath\n",
    "@np.vectorize\n",
    "def f(r, n, m):\n",
    "    x = r * 0.5 * r\n",
    "    return (mpmath.sqrt(mpmath.factorial(n) / mpmath.factorial(n + abs(m))) * (x)**(np.abs(m)*0.5) * np.exp(-x*0.5) * mpmath.laguerre(n,abs(m), x))\n"
   ]
  },
  {
   "cell_type": "code",
   "execution_count": 37,
   "id": "e0d00578-ea0f-49a9-89a7-804cb17c5cba",
   "metadata": {},
   "outputs": [],
   "source": [
    "#@jit\n",
    "def anali1(n,ni,m):\n",
    "    r=np.linspace(0,50,500)\n",
    "    return np.trapz(f(r,n,m)*f(r,ni,m),r)"
   ]
  },
  {
   "cell_type": "code",
   "execution_count": 38,
   "id": "fa63154e-2722-4c29-83d7-1ae1458f61a2",
   "metadata": {},
   "outputs": [
    {
     "name": "stdout",
     "output_type": "stream",
     "text": [
      "[[2.03499006e+00 7.67495031e-01 5.75621273e-01 ... 5.02307454e-02\n",
      "  5.01464657e-02 5.00626087e-02]\n",
      " [7.67495031e-01 2.65124255e+00 6.71558152e-01 ... 5.02730985e-02\n",
      "  5.01886056e-02 5.01045372e-02]\n",
      " [5.75621273e-01 6.71558152e-01 3.48335301e+00 ... 5.03156128e-02\n",
      "  5.02309053e-02 5.01466242e-02]\n",
      " ...\n",
      " [5.02307454e-02 5.02730985e-02 5.03156128e-02 ... 2.97666719e+02\n",
      "  1.34668112e-01 1.23945183e-01]\n",
      " [5.01464657e-02 5.01886056e-02 5.02309053e-02 ... 1.34668112e-01\n",
      "  2.98666493e+02 1.34496155e-01]\n",
      " [5.00626087e-02 5.01045372e-02 5.01466242e-02 ... 1.23945183e-01\n",
      "  1.34496155e-01 2.99666268e+02]]\n",
      "82.10553646087646\n"
     ]
    }
   ],
   "source": [
    "start=time.time()\n",
    "print(matriz1(300,0,y_3(0)))\n",
    "print(time.time()-start)\n",
    "#start=time.time()\n",
    "#print(matriz2(400,0,y_3(0)))\n",
    "#print(time.time()-start)"
   ]
  },
  {
   "cell_type": "code",
   "execution_count": 3,
   "id": "2ba0a56e-30e7-474c-a5b7-da57d10723f6",
   "metadata": {},
   "outputs": [],
   "source": [
    "#@njit(parallel=True)\n",
    "def matriz1(n,m,g):\n",
    "    matriz=np.empty((n,n))\n",
    "    for i in prange(n):\n",
    "        for j in prange(i,n):\n",
    "            matriz[i][j]=matriz[j][i]=g*anali1(j,i,m)\n",
    "    for i in prange(n):\n",
    "        matriz[i][i]+=(i+0.5)\n",
    "    return matriz"
   ]
  },
  {
   "cell_type": "code",
   "execution_count": 6,
   "id": "dbdca9f6-98a4-4e1d-a66c-8bf0890f5014",
   "metadata": {},
   "outputs": [],
   "source": [
    "@jit\n",
    "def y_2(k):\n",
    "    return np.sqrt((2*abs(k)+1))/2"
   ]
  },
  {
   "cell_type": "code",
   "execution_count": 7,
   "id": "7b391180-1f92-492d-843b-1493b549796a",
   "metadata": {},
   "outputs": [],
   "source": [
    "@jit\n",
    "def y_3(k):\n",
    "    return np.sqrt((4*abs(k)+3)/2)"
   ]
  },
  {
   "cell_type": "code",
   "execution_count": 8,
   "id": "3c8f0c81-b6b0-43d5-a73c-f7ce1fe1a4fb",
   "metadata": {},
   "outputs": [],
   "source": [
    "@jit\n",
    "def y_4(k):\n",
    "    return np.sqrt(5+5*abs(k)-np.sqrt(73+64*abs(k)*(2+abs(k)))*0.5)*0.5**0.5"
   ]
  },
  {
   "cell_type": "markdown",
   "id": "2a2a7563-73e5-47dc-a5d4-091d7f9a4beb",
   "metadata": {},
   "source": [
    "Parte de comparação"
   ]
  },
  {
   "cell_type": "code",
   "execution_count": 13,
   "id": "989c6318-22f1-4b3b-8cb6-38ffe6bc39d1",
   "metadata": {},
   "outputs": [
    {
     "name": "stdout",
     "output_type": "stream",
     "text": [
      "[[8.13328534e-01 1.10778366e-01 6.78376176e-02 ... 8.94506983e-04\n",
      "  8.90003474e-04 8.85545085e-04]\n",
      " [1.10778366e-01 1.77416247e+00 1.19921099e-01 ... 1.26743808e-03\n",
      "  1.26104484e-03 1.25471577e-03]\n",
      " [6.78376176e-02 1.19921099e-01 2.74968368e+00 ... 1.55526393e-03\n",
      "  1.54740377e-03 1.53962267e-03]\n",
      " ...\n",
      " [8.94506983e-04 1.26743808e-03 1.55526393e-03 ... 1.97564178e+02\n",
      "  4.81414734e-02 4.27828753e-02]\n",
      " [8.90003474e-04 1.26104484e-03 1.54740377e-03 ... 4.81414734e-02\n",
      "  1.98564056e+02 4.80607039e-02]\n",
      " [8.85545085e-04 1.25471577e-03 1.53962267e-03 ... 4.27828753e-02\n",
      "  4.80607039e-02 1.99563936e+02]]\n"
     ]
    }
   ],
   "source": [
    "#print(matriz1(20,1,0.5)-matriz(20,1,0.5))\n",
    "print(matriz1(200,1,0.5))#-matriz(60,2,0.5))"
   ]
  },
  {
   "cell_type": "markdown",
   "id": "6cbb7faa-c6d3-49a2-b724-8bf573c53278",
   "metadata": {},
   "source": [
    "Fazer a integral\n",
    "\n",
    "$\\int_{0}^{\\infty} \\psi(r) r \\psi(r)r dr$\n",
    "\n",
    "\n",
    "numero quântico=0 (fundamental)"
   ]
  },
  {
   "cell_type": "code",
   "execution_count": 13,
   "id": "18397813-5fb7-4605-88da-a55ea5387a58",
   "metadata": {},
   "outputs": [
    {
     "name": "stdout",
     "output_type": "stream",
     "text": [
      "valor de $\\gamma_b$ 0.5\n"
     ]
    }
   ],
   "source": [
    "file=open('autovalores.txt','w')\n",
    "l=5\n",
    "m=0\n",
    "gab=y_2(m)\n",
    "print(\"valor de $\\gamma_b$\",round(gab,2))\n",
    "ni=0\n",
    "n=350#(n-1) é dimensão\n",
    "w,v=np.linalg.eigh(np.array(matriz1(n,m,gab)))\n",
    "for i in range(n):\n",
    "    file.write(str(v[0][ni]/abs(v[0][ni])*v[i][ni])+'\\n')\n",
    "file.close()"
   ]
  },
  {
   "cell_type": "code",
   "execution_count": 14,
   "id": "e090123a-ebf6-4213-a009-53dec8f63179",
   "metadata": {},
   "outputs": [],
   "source": [
    "rea=open('autovalores.txt','r')\n",
    "lines = rea.read().split()\n",
    "#print(lines)"
   ]
  },
  {
   "cell_type": "markdown",
   "id": "9a802554-42b2-49ce-a25e-2943f1e71b52",
   "metadata": {},
   "source": [
    "Distância esperada $<r>$"
   ]
  },
  {
   "cell_type": "code",
   "execution_count": 9,
   "id": "9c03127b-2b67-4442-a967-3f2953697465",
   "metadata": {},
   "outputs": [
    {
     "ename": "KeyboardInterrupt",
     "evalue": "",
     "output_type": "error",
     "traceback": [
      "\u001b[1;31m---------------------------------------------------------------------------\u001b[0m",
      "\u001b[1;31mKeyboardInterrupt\u001b[0m                         Traceback (most recent call last)",
      "Input \u001b[1;32mIn [9]\u001b[0m, in \u001b[0;36m<cell line: 9>\u001b[1;34m()\u001b[0m\n\u001b[0;32m     13\u001b[0m \u001b[38;5;28;01mfor\u001b[39;00m j \u001b[38;5;129;01min\u001b[39;00m g:\n\u001b[0;32m     14\u001b[0m     resul\u001b[38;5;241m=\u001b[39m[]\n\u001b[1;32m---> 15\u001b[0m     w,v\u001b[38;5;241m=\u001b[39msc\u001b[38;5;241m.\u001b[39mlinalg\u001b[38;5;241m.\u001b[39meigh(np\u001b[38;5;241m.\u001b[39marray(\u001b[43mmatriz1\u001b[49m\u001b[43m(\u001b[49m\u001b[43mn\u001b[49m\u001b[43m,\u001b[49m\u001b[43mm\u001b[49m\u001b[43m,\u001b[49m\u001b[43mj\u001b[49m\u001b[43m)\u001b[49m),driver\u001b[38;5;241m=\u001b[39m\u001b[38;5;124m'\u001b[39m\u001b[38;5;124mevr\u001b[39m\u001b[38;5;124m'\u001b[39m)\n\u001b[0;32m     16\u001b[0m     \u001b[38;5;28;01mfor\u001b[39;00m k \u001b[38;5;129;01min\u001b[39;00m space:\n\u001b[0;32m     17\u001b[0m         soma\u001b[38;5;241m=\u001b[39m\u001b[38;5;241m0\u001b[39m\n",
      "Input \u001b[1;32mIn [3]\u001b[0m, in \u001b[0;36mmatriz1\u001b[1;34m(n, m, g)\u001b[0m\n\u001b[0;32m      4\u001b[0m \u001b[38;5;28;01mfor\u001b[39;00m i \u001b[38;5;129;01min\u001b[39;00m prange(n):\n\u001b[0;32m      5\u001b[0m     \u001b[38;5;28;01mfor\u001b[39;00m j \u001b[38;5;129;01min\u001b[39;00m prange(i,n):\n\u001b[1;32m----> 6\u001b[0m         matriz[i][j]\u001b[38;5;241m=\u001b[39mmatriz[j][i]\u001b[38;5;241m=\u001b[39mg\u001b[38;5;241m*\u001b[39m\u001b[43manali1\u001b[49m\u001b[43m(\u001b[49m\u001b[43mj\u001b[49m\u001b[43m,\u001b[49m\u001b[43mi\u001b[49m\u001b[43m,\u001b[49m\u001b[43mm\u001b[49m\u001b[43m)\u001b[49m\n\u001b[0;32m      7\u001b[0m \u001b[38;5;28;01mfor\u001b[39;00m i \u001b[38;5;129;01min\u001b[39;00m prange(n):\n\u001b[0;32m      8\u001b[0m     matriz[i][i]\u001b[38;5;241m+\u001b[39m\u001b[38;5;241m=\u001b[39m(i\u001b[38;5;241m+\u001b[39m\u001b[38;5;241m0.5\u001b[39m)\n",
      "Input \u001b[1;32mIn [2]\u001b[0m, in \u001b[0;36manali1\u001b[1;34m(n, ni, m)\u001b[0m\n\u001b[0;32m      2\u001b[0m \u001b[38;5;28;01mdef\u001b[39;00m \u001b[38;5;21manali1\u001b[39m(n,ni,m):\n\u001b[1;32m----> 3\u001b[0m     r\u001b[38;5;241m=\u001b[39m\u001b[43mnp\u001b[49m\u001b[38;5;241;43m.\u001b[39;49m\u001b[43mlinspace\u001b[49m\u001b[43m(\u001b[49m\u001b[38;5;241;43m0\u001b[39;49m\u001b[43m,\u001b[49m\u001b[38;5;241;43m50\u001b[39;49m\u001b[43m,\u001b[49m\u001b[38;5;241;43m500\u001b[39;49m\u001b[43m)\u001b[49m\n\u001b[0;32m      4\u001b[0m     a\u001b[38;5;241m=\u001b[39mnp\u001b[38;5;241m.\u001b[39mtrapz(f(r,n,m)\u001b[38;5;241m*\u001b[39mf(r,ni,m),r)\n\u001b[0;32m      5\u001b[0m     \u001b[38;5;28;01mreturn\u001b[39;00m a\n",
      "File \u001b[1;32m<__array_function__ internals>:5\u001b[0m, in \u001b[0;36mlinspace\u001b[1;34m(*args, **kwargs)\u001b[0m\n",
      "File \u001b[1;32m~\\anaconda3\\lib\\site-packages\\numpy\\core\\function_base.py:135\u001b[0m, in \u001b[0;36mlinspace\u001b[1;34m(start, stop, num, endpoint, retstep, dtype, axis)\u001b[0m\n\u001b[0;32m    132\u001b[0m     dtype \u001b[38;5;241m=\u001b[39m dt\n\u001b[0;32m    134\u001b[0m delta \u001b[38;5;241m=\u001b[39m stop \u001b[38;5;241m-\u001b[39m start\n\u001b[1;32m--> 135\u001b[0m y \u001b[38;5;241m=\u001b[39m \u001b[43m_nx\u001b[49m\u001b[38;5;241;43m.\u001b[39;49m\u001b[43marange\u001b[49m\u001b[43m(\u001b[49m\u001b[38;5;241;43m0\u001b[39;49m\u001b[43m,\u001b[49m\u001b[43m \u001b[49m\u001b[43mnum\u001b[49m\u001b[43m,\u001b[49m\u001b[43m \u001b[49m\u001b[43mdtype\u001b[49m\u001b[38;5;241;43m=\u001b[39;49m\u001b[43mdt\u001b[49m\u001b[43m)\u001b[49m\u001b[38;5;241m.\u001b[39mreshape((\u001b[38;5;241m-\u001b[39m\u001b[38;5;241m1\u001b[39m,) \u001b[38;5;241m+\u001b[39m (\u001b[38;5;241m1\u001b[39m,) \u001b[38;5;241m*\u001b[39m ndim(delta))\n\u001b[0;32m    136\u001b[0m \u001b[38;5;66;03m# In-place multiplication y *= delta/div is faster, but prevents the multiplicant\u001b[39;00m\n\u001b[0;32m    137\u001b[0m \u001b[38;5;66;03m# from overriding what class is produced, and thus prevents, e.g. use of Quantities,\u001b[39;00m\n\u001b[0;32m    138\u001b[0m \u001b[38;5;66;03m# see gh-7142. Hence, we multiply in place only for standard scalar types.\u001b[39;00m\n\u001b[0;32m    139\u001b[0m _mult_inplace \u001b[38;5;241m=\u001b[39m _nx\u001b[38;5;241m.\u001b[39misscalar(delta)\n",
      "\u001b[1;31mKeyboardInterrupt\u001b[0m: "
     ]
    }
   ],
   "source": [
    "#função de onda\n",
    "start = time.time()\n",
    "l=50\n",
    "\n",
    "ni=0\n",
    "n=200#(n-1) é dimensão\n",
    "mi=[0,-1,-2,-3]\n",
    "space=np.linspace(0,l,1000)\n",
    "for m in mi:\n",
    "    final=[]\n",
    "    g=np.linspace(0.1,7,10)\n",
    "    resul=[]\n",
    "    for j in g:\n",
    "        resul=[]\n",
    "        w,v=sc.linalg.eigh(np.array(matriz1(n,m,j)),driver='evr')\n",
    "        for k in space:\n",
    "            soma=0\n",
    "\n",
    "            for i in prange(n):\n",
    "\n",
    "                soma+=np.sqrt(math.factorial(i)*math.factorial(ni+abs(m))/(math.factorial(ni)*2**abs(m)*math.factorial(i+abs(m))))*v[0][0]/abs(v[0][0])*v[i][ni]*sc.special.assoc_laguerre(k*k*0.5, i, abs(m))\n",
    "\n",
    "            resul.append((soma*(k*k*0.5)**(np.abs(m)*0.5)*np.exp(-k*k*0.25))**2*k**2)\n",
    "        #gerando a função de onda\n",
    "        a=np.trapz(resul,space)\n",
    "        #print(a)\n",
    "        final.append(a)\n",
    "\n",
    "    plt.plot(g,final, label='$<r>$ m='+str(m)+' ')\n",
    "\n",
    "plt.ylabel(\"$<r>$ \", \n",
    "          fontdict={'family': 'serif', \n",
    "                    'color' : 'black',\n",
    "                    'weight': 'bold',\n",
    "                    'size': 16})\n",
    "plt.xlabel('$\\gamma_b$', \n",
    "          fontdict={'family': 'serif', \n",
    "                    'color' : 'black',\n",
    "                    'weight': 'bold',\n",
    "                    'size': 16})\n",
    "plt.title('Valor esperado da distância relativa', \n",
    "          fontdict={'family': 'serif', \n",
    "                    'color' : 'darkblue',\n",
    "                    'weight': 'bold',\n",
    "                    'size': 18})\n",
    "plt.legend()\n",
    "plt.tight_layout()\n",
    "plt.savefig('myfigure_00.png', dpi=200)\n",
    "plt.grid() \n",
    "\n",
    "plt.show()"
   ]
  },
  {
   "cell_type": "markdown",
   "id": "85e8c232-e242-44e2-9d39-74cb32a1c55e",
   "metadata": {},
   "source": [
    "Valor máximo $r_{max}$"
   ]
  },
  {
   "cell_type": "code",
   "execution_count": 28,
   "id": "a751f81f-8888-478d-af6f-8b799670e7f0",
   "metadata": {},
   "outputs": [
    {
     "data": {
      "image/png": "[encoded data removed]",
      "text/plain": [
       "<Figure size 432x288 with 1 Axes>"
      ]
     },
     "metadata": {
      "needs_background": "light"
     },
     "output_type": "display_data"
    }
   ],
   "source": [
    "#função de onda\n",
    "start = time.time()\n",
    "l=50\n",
    "vec=[]\n",
    "#final=[]\n",
    "mi=[0,-1,-2,-3]\n",
    "ni=0\n",
    "n=200#(n-1) é i\n",
    "#rea=open('autovalores.txt','r')\n",
    "#lines = rea.read().split()\n",
    "space=np.linspace(0,l,1000)\n",
    "g=np.linspace(0.1,7,20)\n",
    "for m in mi:\n",
    "    final=[]\n",
    "    for j in g:\n",
    "        resul=[]\n",
    "        w,v=sc.linalg.eigh(np.array(matriz1(n,m,j)),driver='evr')\n",
    "        #print(j)\n",
    "        for k in space:\n",
    "            soma=0\n",
    "\n",
    "            for i in prange(n):\n",
    "\n",
    "                soma+=np.sqrt(math.factorial(i)*math.factorial(ni+abs(m))/(math.factorial(ni)*2**abs(m)*math.factorial(i+abs(m))))*v[0][0]/abs(v[0][0])*v[i][ni]*sc.special.assoc_laguerre(k*k*0.5, i, abs(m))\n",
    "\n",
    "            resul.append((soma*(k*k*0.5)**(np.abs(m)*0.5)*np.exp(-k*k*0.25))**2)\n",
    "        #gerando a função de ondal\n",
    "        h=l/1000\n",
    "        #plt.plot(space,resul)\n",
    "        for indi in prange(len(space)):\n",
    "            der1=(resul[indi]-resul[indi+1])/h\n",
    "            der2=(resul[indi+1]-resul[indi+2])/h\n",
    "            if (der1*der2<0):\n",
    "                #print(round(indi*h,3))\n",
    "                final.append(round(indi*h,3))\n",
    "                break\n",
    "    plt.plot(g,final,label='$r_{max}$ m='+str(m))\n",
    "plt.ylabel(\"$r_{max}$ \", \n",
    "          fontdict={'family': 'serif', \n",
    "                    'color' : 'black',\n",
    "                    'weight': 'bold',\n",
    "                    'size': 16})\n",
    "plt.xlabel('$\\gamma_b$', \n",
    "          fontdict={'family': 'serif', \n",
    "                    'color' : 'black',\n",
    "                    'weight': 'bold',\n",
    "                    'size': 16})\n",
    "plt.title('Valor de máxima densidade de probabilidade', \n",
    "          fontdict={'family': 'serif', \n",
    "                    'color' : 'darkblue',\n",
    "                    'weight': 'bold',\n",
    "                    'size': 18})\n",
    "\n",
    "plt.legend()\n",
    "plt.tight_layout()\n",
    "plt.savefig('myfigure_01.png', dpi=200)\n",
    "plt.grid()\n",
    "\n",
    "plt.show()\n"
   ]
  },
  {
   "cell_type": "markdown",
   "id": "2278ba87-3220-4cd2-a272-795ff60bc5c4",
   "metadata": {
    "tags": []
   },
   "source": [
    "# plot dos coeficientes do fits\n",
    "## primeiro fit\n",
    "$f(r)=ar^2+br+c$\n",
    "\n"
   ]
  },
  {
   "cell_type": "code",
   "execution_count": 22,
   "id": "d60b442e-c864-4057-a763-fb49168e063e",
   "metadata": {},
   "outputs": [],
   "source": [
    "def func_1(x,c,b,a):\n",
    "    return c*x**2+b*x+a"
   ]
  },
  {
   "cell_type": "code",
   "execution_count": 32,
   "id": "3e47e801-efc3-4fc5-9378-a707c64ed228",
   "metadata": {},
   "outputs": [
    {
     "name": "stdout",
     "output_type": "stream",
     "text": [
      "1.224744871391589\n",
      "0.5 [-1.22471541  2.41964897 -0.17666441]\n",
      "0.6811862178478972 [-1.50358693  3.39049565 -0.68788927]\n",
      "0.8623724356957945 [-1.78249392  4.3747959  -1.21633277]\n",
      "1.0435586535436916 [-2.05921523  5.36216097 -1.75353847]\n",
      "1.224744871391589 [-2.33265718  6.34688463 -2.29463093]\n",
      "a2= 0.14204798724830475 a1= 0.34794508774771815 a0= 0.14204798724830475\n",
      "[[-1.22471541 -1.50358693 -1.78249392 -2.05921523 -2.33265718]\n",
      " [ 2.41964897  3.39049565  4.3747959   5.36216097  6.34688463]\n",
      " [-0.17666441 -0.68788927 -1.21633277 -1.75353847 -2.29463093]]\n"
     ]
    },
    {
     "data": {
      "image/png": "[encoded data removed]",
      "text/plain": [
       "<Figure size 432x288 with 1 Axes>"
      ]
     },
     "metadata": {
      "needs_background": "light"
     },
     "output_type": "display_data"
    }
   ],
   "source": [
    "#função de onda\n",
    "start = time.time()\n",
    "l=5#tamanho do eixo x no grafico\n",
    "vec=[]\n",
    "m=0#degerencia\n",
    "ni=1#energias\n",
    "gab=y_3(m)\n",
    "print(gab)\n",
    "g=np.linspace(y_1(m),y_3(m),5)\n",
    "n=200#(n-1) é dimensão\n",
    "ac=[]\n",
    "for i in range(m):\n",
    "    vec.append([])\n",
    "\n",
    "#gerador de pontos de energia\n",
    "space=np.linspace(0,l,100)\n",
    "#for i in g:\n",
    "#gerando a função de onda\n",
    "ind=0\n",
    "for j in g:\n",
    "    w,v=sc.linalg.eigh(np.array(matriz1(n,m,j)))\n",
    "\n",
    "    resul=[]\n",
    "    popt,pcov=[],[]\n",
    "    for k in space:\n",
    "        \n",
    "        soma=0\n",
    "        for i in range(n):\n",
    "            \n",
    "            soma+=np.sqrt(math.factorial(i)*math.factorial(ni+abs(m))/(2**abs(m)*math.factorial(ni)*math.factorial(i+abs(m))))*v[i][ni]*sc.special.assoc_laguerre(k*k*0.5,i,abs(m))\n",
    "            \n",
    "        resul.append(soma)\n",
    "\n",
    "        \n",
    "    #plt.plot(space,resul, label = \"Numérico\")\n",
    "    popt,pcov= curve_fit(func_1,space,resul,maxfev=5000, method='trf')\n",
    "    #plt.plot(space, func(space, *popt), 'r-', label='fit1' )\n",
    "    ac.append(popt)\n",
    "    print(j,popt)\n",
    "\n",
    "\n",
    "#função quasi-exata\n",
    "\n",
    "#coeficientes\n",
    "#a0=(np.sqrt(2**(abs(m)-0.5)*sc.special.gamma(abs(m)*1.0+0.5)))**(-1)#1/np.linalg.norm(resul)#\n",
    "r=np.linspace(0,100000,10000000)\n",
    "#normalizando a0\n",
    "rad=(r)**(2*abs(m))*np.exp(-r**2*0.5)*(1+(2*gab)*r/(2*abs(m)+1)+r*r/(2*abs(m)+1))**2*r\n",
    "\n",
    "a0=(np.trapz(rad,r))**(-0.5)\n",
    "a1=(2*gab)*a0/(2*abs(m)+1)\n",
    "a2=a1/(2*gab)\n",
    "\n",
    "print('a2=',a2,'a1=',a1,'a0=',a0)\n",
    "#a2=a1/gab\n",
    "#espaço\n",
    "x=np.linspace(0,l,100)\n",
    "act=np.transpose(ac)\n",
    "print(act)\n",
    "plt.plot(g[:],act[0],label='a2')\n",
    "plt.plot(g[:],act[1],label='a1')\n",
    "plt.plot(g[:],act[2],label='a0')\n",
    "#plt.plot(g[2:],act[3][2:])\n",
    "#plot\n",
    "#plt.plot(x,(a2*x*x+a1*x+a0), label=\"Quasi-exact\")\n",
    "plt.ylabel(\"$|a_{n}|$\", \n",
    "          fontdict={'family': 'serif', \n",
    "                    'color' : 'black',\n",
    "                    'weight': 'bold',\n",
    "                    'size': 16})\n",
    "plt.xlabel('r', \n",
    "          fontdict={'family': 'serif', \n",
    "                    'color' : 'black',\n",
    "                    'weight': 'bold',\n",
    "                    'size': 16})\n",
    "\n",
    "plt.legend()\n",
    "plt.title('Valores dos coefientes', \n",
    "          fontdict={'family': 'serif', \n",
    "                    'color' : 'darkblue',\n",
    "                    'weight': 'bold',\n",
    "                    'size': 18})\n",
    "plt.tight_layout()\n",
    "plt.savefig('myfigure_03.png', dpi=200)\n",
    "plt.show()\n",
    "end = time.time()\n",
    "\n",
    "#print(end-start)"
   ]
  },
  {
   "cell_type": "markdown",
   "id": "3b6f38f6-0f71-41da-ba6d-cb6f95c1d908",
   "metadata": {},
   "source": [
    "## segundo fit \n",
    "$g(r)=ar^{b+1}+cr+d$"
   ]
  },
  {
   "cell_type": "code",
   "execution_count": null,
   "id": "c6fce87f-5cbe-4c10-8c4f-9a2e9892ef2b",
   "metadata": {},
   "outputs": [],
   "source": [
    "def func(x,a,b,c,d):\n",
    "    return a*x**(b+1)+c+d"
   ]
  },
  {
   "cell_type": "markdown",
   "id": "350b007e-d338-46a1-8604-799940894dfb",
   "metadata": {},
   "source": [
    "funções que define $\\gamma_{b}$"
   ]
  },
  {
   "cell_type": "code",
   "execution_count": 35,
   "id": "120361c7-93d4-44fb-a06a-09a3fb47a408",
   "metadata": {},
   "outputs": [
    {
     "name": "stdout",
     "output_type": "stream",
     "text": [
      "0.8660254037844386 [0.18968718 0.00715718 0.16814238 0.16814238]\n",
      "0.9006737930810776 [0.19146944 0.02389086 0.16385742 0.16385742]\n",
      "0.9353221823777167 [0.19297984 0.04072953 0.15973292 0.15973292]\n",
      "0.9699705716743557 [0.19423342 0.05766854 0.15576212 0.15576212]\n",
      "1.0046189609709948 [0.19524459 0.0747033  0.15193854 0.15193854]\n",
      "1.0392673502676337 [0.19602717 0.09182937 0.148256   0.148256  ]\n",
      "1.0739157395642729 [0.19659439 0.1090424  0.14470857 0.14470857]\n",
      "1.1085641288609118 [0.19695891 0.12633817 0.14129058 0.14129058]\n",
      "1.1432125181575508 [0.19713284 0.14371257 0.13799661 0.13799661]\n",
      "1.17786090745419 [0.19712775 0.16116158 0.13482147 0.13482147]\n",
      "1.212509296750829 [0.19695467 0.17868132 0.13176022 0.13176022]\n",
      "1.247157686047468 [0.19662416 0.19626799 0.12880812 0.12880812]\n",
      "1.281806075344107 [0.19614627 0.21391791 0.12596065 0.12596065]\n",
      "1.3164544646407461 [0.19553058 0.2316275  0.12321347 0.12321347]\n",
      "1.351102853937385 [0.19478624 0.24939328 0.12056247 0.12056247]\n",
      "1.385751243234024 [0.19392194 0.26721186 0.1180037  0.1180037 ]\n",
      "1.4203996325306631 [0.19294597 0.28507996 0.11553339 0.11553339]\n",
      "1.4550480218273023 [0.1918662  0.30299437 0.11314793 0.11314793]\n",
      "1.4896964111239412 [0.1906901  0.32095209 0.1108439  0.1108439 ]\n",
      "1.5243448004205802 [0.1894248  0.33895006 0.10861799 0.10861799]\n",
      "1.5589931897172193 [0.18807709 0.35698527 0.10646706 0.10646706]\n",
      "1.5936415790138583 [0.18665335 0.37505504 0.10438812 0.10438812]\n",
      "1.6282899683104972 [0.18515968 0.39315658 0.1023783  0.1023783 ]\n",
      "1.6629383576071364 [0.18360185 0.41128726 0.10043486 0.10043486]\n",
      "1.6975867469037755 [0.18198533 0.4294445  0.09855517 0.09855517]\n",
      "1.7322351362004145 [0.1803153  0.44762582 0.09673673 0.09673673]\n",
      "1.7668835254970534 [0.17859668 0.46582881 0.09497715 0.09497715]\n",
      "1.8015319147936926 [0.1768341  0.48405117 0.09327413 0.09327413]\n",
      "1.8361803040903315 [0.17503195 0.50229063 0.0916255  0.0916255 ]\n",
      "1.8708286933869707 [0.17319438 0.52054503 0.09002914 0.09002914]\n",
      "a2= 0.04708322002449848 a1= 0.1761692779977675 a0= 0.14124966007349543\n"
     ]
    },
    {
     "data": {
      "image/png": "[encoded data removed]",
      "text/plain": [
       "<Figure size 432x288 with 1 Axes>"
      ]
     },
     "metadata": {
      "needs_background": "light"
     },
     "output_type": "display_data"
    }
   ],
   "source": [
    "#função de onda\n",
    "start = time.time()\n",
    "l=5#tamanho do eixo x no grafico\n",
    "vec=[]\n",
    "m=-1#degerencicia\n",
    "gab=y_3(m)\n",
    "ni=0#energias\n",
    "g=np.linspace(y_2(m),y_3(m),30)\n",
    "n=200#(n-1) é dimensão\n",
    "ac=[]\n",
    "\n",
    "for i in range(m):\n",
    "    vec.append([])\n",
    "#adicionar os coeficientes\n",
    "\n",
    "#gerador de pontos de energia\n",
    "space=np.linspace(0,l,100)\n",
    "#for i in g:\n",
    "#gerando a função de onda\n",
    "ind=0\n",
    "for j in g:\n",
    "    w,v=sc.linalg.eigh(np.array(matriz1(n,m,j)))\n",
    "\n",
    "    resul=[]\n",
    "    popt,pcov=[],[]\n",
    "    for k in space:\n",
    "        \n",
    "        soma=0\n",
    "        for i in range(n):\n",
    "            \n",
    "            soma+=np.sqrt(math.factorial(i)*math.factorial(ni+abs(m))/(2**abs(m)*math.factorial(ni)*math.factorial(i+abs(m))))*v[i][ni]*sc.special.assoc_laguerre(k*k*0.5,i,abs(m))\n",
    "            \n",
    "        resul.append(soma)\n",
    "\n",
    "        \n",
    "    #plt.plot(space,resul, label = \"Numérico\")\n",
    "    popt,pcov= curve_fit(func,space,resul,maxfev=100000,method='dogbox')\n",
    "    #plt.plot(space, func(space, *popt), 'r-', label='fit1' )\n",
    "    #if (1.1<=popt[1]<=0.9):\n",
    "    ac.append(popt)\n",
    "    print(j,popt)\n",
    "\n",
    "plt.ylabel(\"$R_{\"+str(ni)+\"}^{|\"+str(abs(m))+\"|}$($r$) \", \n",
    "          fontdict={'family': 'serif', \n",
    "                    'color' : 'black',\n",
    "                    'weight': 'bold',\n",
    "                    'size': 16})\n",
    "#função quasi-exata\n",
    "\n",
    "#coeficientes\n",
    "#a0=(np.sqrt(2**(abs(m)-0.5)*sc.special.gamma(abs(m)*1.0+0.5)))**(-1)#1/np.linalg.norm(resul)#\n",
    "r=np.linspace(0,100000,10000000)\n",
    "#normalizando a0\n",
    "rad=(r)**(2*abs(m))*np.exp(-r**2*0.5)*(1+(2*gab)*r/(2*abs(m)+1)+r*r/(2*abs(m)+1))**2*r\n",
    "\n",
    "a0=(np.trapz(rad,r))**(-0.5)\n",
    "a1=(2*gab)*a0/(2*abs(m)+1)\n",
    "a2=a1/(2*gab)\n",
    "\n",
    "print('a2=',a2,'a1=',a1,'a0=',a0)\n",
    "#a2=a1/gab\n",
    "#espaço\n",
    "x=np.linspace(0,l,100)\n",
    "#plot\n",
    "#plt.plot(x,(a2*x*x+a1*x+a0), label=\"Quasi-exact\")\n",
    "#print(ac)\n",
    "act=np.transpose(ac)\n",
    "plt.plot(g[:],act[0][:],label='a2')\n",
    "plt.plot(g[:],act[1][:],label='b')\n",
    "plt.plot(g[:],act[2][:],label='a1')\n",
    "plt.plot(g[:],act[3][:],label='a0')\n",
    "plt.ylabel(\"$|a_{n}|$ \", \n",
    "          fontdict={'family': 'serif', \n",
    "                    'color' : 'black',\n",
    "                    'weight': 'bold',\n",
    "                    'size': 16})\n",
    "\n",
    "plt.xlabel('$\\gamma_b$', \n",
    "          fontdict={'family': 'serif', \n",
    "                    'color' : 'black',\n",
    "                    'weight': 'bold',\n",
    "                    'size': 16})\n",
    "\n",
    "plt.title('Valores dos coefientes', \n",
    "          fontdict={'family': 'serif', \n",
    "                    'color' : 'darkblue',\n",
    "                    'weight': 'bold',\n",
    "                    'size': 18})\n",
    "\n",
    "plt.legend()\n",
    "plt.tight_layout()\n",
    "plt.savefig('myfigure_02.png', dpi=200)\n",
    "plt.show()\n",
    "end = time.time()\n",
    "\n",
    "#print(end-start)"
   ]
  },
  {
   "cell_type": "markdown",
   "id": "8ff6f242-b999-427b-9843-7fc15bc5b4dd",
   "metadata": {},
   "source": [
    "## terceiro fit \n",
    "$g(r)=ar^{b}+cr+d$"
   ]
  },
  {
   "cell_type": "code",
   "execution_count": 35,
   "id": "387c638c-8587-426d-b977-70731a6f0f27",
   "metadata": {},
   "outputs": [],
   "source": [
    "def func(x,b,c,d):\n",
    "    return b*x*x+c*x+d"
   ]
  },
  {
   "cell_type": "code",
   "execution_count": 37,
   "id": "3151a8f9-1088-46f9-ab50-7194880f5894",
   "metadata": {},
   "outputs": [
    {
     "name": "stdout",
     "output_type": "stream",
     "text": [
      "a2= 0.04708322002449848 a1= 0.1761692779977675 a0= 0.14124966007349543\n"
     ]
    },
    {
     "data": {
      "image/png": "[encoded data removed]",
      "text/plain": [
       "<Figure size 432x288 with 1 Axes>"
      ]
     },
     "metadata": {
      "needs_background": "light"
     },
     "output_type": "display_data"
    }
   ],
   "source": [
    "#função de onda\n",
    "start = time.time()\n",
    "l=5#tamanho do eixo x no grafico\n",
    "vec=[]\n",
    "m=-1#degerencicia\n",
    "gab=y_3(m)\n",
    "ni=0#energias\n",
    "g=np.linspace(gab,gab,1)\n",
    "n=200#(n-1) é dimensão\n",
    "for i in range(m):\n",
    "    vec.append([])\n",
    "\n",
    "#gerador de pontos de energia\n",
    "space=np.linspace(0,l,100)\n",
    "#for i in g:\n",
    "#gerando a função de onda\n",
    "ind=0\n",
    "for j in g:\n",
    "    w,v=sc.linalg.eigh(np.array(matriz1(n,m,j)))\n",
    "\n",
    "    resul=[]\n",
    "    for k in space:\n",
    "        \n",
    "        soma=0\n",
    "        for i in range(n):\n",
    "            \n",
    "            soma+=np.sqrt(math.factorial(i)*math.factorial(ni+abs(m))/(2**abs(m)*math.factorial(ni)*math.factorial(i+abs(m))))*v[i][ni]*sc.special.assoc_laguerre(k*k*0.5,i,abs(m))\n",
    "            \n",
    "        resul.append(soma)\n",
    "        if i==0.0:\n",
    "            print(soma)\n",
    "        \n",
    "        \n",
    "    plt.plot(space,resul, label = \"Numérico\")\n",
    "\n",
    "\n",
    "plt.ylabel(\"$h_{\"+str(ni)+\"}^{|\"+str(abs(m))+\"|}$($r$)  e $P_{{3}}(r)$\", \n",
    "          fontdict={'family': 'serif', \n",
    "                    'color' : 'black',\n",
    "                    'weight': 'bold',\n",
    "                    'size': 16})\n",
    "#função quasi-exata\n",
    "\n",
    "#coeficientes\n",
    "#a0=(np.sqrt(2**(abs(m)-0.5)*sc.special.gamma(abs(m)*1.0+0.5)))**(-1)#1/np.linalg.norm(resul)#\n",
    "r=np.linspace(0,100000,10000000)\n",
    "#normalizando a0\n",
    "rad=(r)**(2*abs(m))*np.exp(-r**2*0.5)*(1+(2*gab)*r/(2*abs(m)+1)+r*r/(2*abs(m)+1))**2*r\n",
    "\n",
    "a0=(np.trapz(rad,r))**(-0.5)\n",
    "a1=(2*gab)*a0/(2*abs(m)+1)\n",
    "a2=a1/(2*gab)\n",
    "\n",
    "print('a2=',a2,'a1=',a1,'a0=',a0)\n",
    "#a2=a1/gab\n",
    "#espaço\n",
    "x=np.linspace(0,l,100)\n",
    "#plot\n",
    "plt.plot(x,(a2*x*x+a1*x+a0), label=\"Quasi-exact\",linestyle='--',color='red')\n",
    "plt.xlabel('r', \n",
    "          fontdict={'family': 'serif', \n",
    "                    'color' : 'black',\n",
    "                    'weight': 'bold',\n",
    "                    'size': 16})\n",
    "plt.title('Funções de onda ', \n",
    "          fontdict={'family': 'serif', \n",
    "                    'color' : 'darkblue',\n",
    "                    'weight': 'bold',\n",
    "                    'size': 18})\n",
    "plt.legend()\n",
    "\n",
    "plt.tight_layout()\n",
    "\n",
    "plt.show()\n",
    "end = time.time()\n",
    "\n",
    "#print(end-start)"
   ]
  },
  {
   "cell_type": "code",
   "execution_count": null,
   "id": "48b5877c-0804-49ef-b781-d73b7b587f77",
   "metadata": {},
   "outputs": [],
   "source": []
  }
 ],
 "metadata": {
  "kernelspec": {
   "display_name": "Python 3 (ipykernel)",
   "language": "python",
   "name": "python3"
  },
  "language_info": {
   "codemirror_mode": {
    "name": "ipython",
    "version": 3
   },
   "file_extension": ".py",
   "mimetype": "text/x-python",
   "name": "python",
   "nbconvert_exporter": "python",
   "pygments_lexer": "ipython3",
   "version": "3.9.12"
  }
 },
 "nbformat": 4,
 "nbformat_minor": 5
}
